{
 "cells": [
  {
   "cell_type": "code",
   "execution_count": 1,
   "metadata": {},
   "outputs": [],
   "source": [
    "import pandas as pd\n",
    "import matplotlib.pyplot as plt\n",
    "import re\n",
    "import time\n",
    "import warnings\n",
    "import numpy as np\n",
    "from nltk.corpus import stopwords\n",
    "from sklearn.decomposition import TruncatedSVD\n",
    "from sklearn.preprocessing import normalize\n",
    "from sklearn.feature_extraction.text import CountVectorizer\n",
    "from sklearn.manifold import TSNE\n",
    "import seaborn as sns\n",
    "from sklearn.neighbors import KNeighborsClassifier\n",
    "\n",
    "from sklearn.metrics.classification import accuracy_score, log_loss\n",
    "\n",
    "from sklearn.linear_model import SGDClassifier\n",
    "from imblearn.over_sampling import SMOTE\n",
    "from collections import Counter\n",
    "from scipy.sparse import hstack\n",
    "from sklearn.multiclass import OneVsRestClassifier\n",
    "from sklearn.svm import SVC\n",
    "from sklearn.model_selection import StratifiedKFold \n",
    "from collections import Counter, defaultdict\n",
    "from sklearn.calibration import CalibratedClassifierCV\n",
    "from sklearn.naive_bayes import MultinomialNB\n",
    "from sklearn.model_selection import train_test_split\n",
    "from sklearn.model_selection import GridSearchCV\n",
    "import math\n",
    "from sklearn.metrics import normalized_mutual_info_score\n",
    "\n",
    "warnings.filterwarnings(\"ignore\")\n",
    "\n",
    "from mlxtend.classifier import StackingClassifier\n",
    "\n",
    "from sklearn import model_selection\n",
    "from sklearn.linear_model import LogisticRegression"
   ]
  },
  {
   "cell_type": "markdown",
   "metadata": {},
   "source": [
    "# Loading datasets\n"
   ]
  },
  {
   "cell_type": "code",
   "execution_count": 2,
   "metadata": {},
   "outputs": [],
   "source": [
    "# Loading training_variants\n",
    "data_variants = pd.read_csv('training/training_variants')\n",
    "# Loading training_text dataset,seperated by ||\n",
    "data_text =pd.read_csv(\"training/training_text\",sep=\"\\|\\|\",engine=\"python\",names=[\"ID\",\"TEXT\"],skiprows=1)"
   ]
  },
  {
   "cell_type": "code",
   "execution_count": 3,
   "metadata": {},
   "outputs": [
    {
     "data": {
      "text/html": [
       "<div>\n",
       "<style scoped>\n",
       "    .dataframe tbody tr th:only-of-type {\n",
       "        vertical-align: middle;\n",
       "    }\n",
       "\n",
       "    .dataframe tbody tr th {\n",
       "        vertical-align: top;\n",
       "    }\n",
       "\n",
       "    .dataframe thead th {\n",
       "        text-align: right;\n",
       "    }\n",
       "</style>\n",
       "<table border=\"1\" class=\"dataframe\">\n",
       "  <thead>\n",
       "    <tr style=\"text-align: right;\">\n",
       "      <th></th>\n",
       "      <th>ID</th>\n",
       "      <th>Gene</th>\n",
       "      <th>Variation</th>\n",
       "      <th>Class</th>\n",
       "    </tr>\n",
       "  </thead>\n",
       "  <tbody>\n",
       "    <tr>\n",
       "      <th>0</th>\n",
       "      <td>0</td>\n",
       "      <td>FAM58A</td>\n",
       "      <td>Truncating Mutations</td>\n",
       "      <td>1</td>\n",
       "    </tr>\n",
       "    <tr>\n",
       "      <th>1</th>\n",
       "      <td>1</td>\n",
       "      <td>CBL</td>\n",
       "      <td>W802*</td>\n",
       "      <td>2</td>\n",
       "    </tr>\n",
       "    <tr>\n",
       "      <th>2</th>\n",
       "      <td>2</td>\n",
       "      <td>CBL</td>\n",
       "      <td>Q249E</td>\n",
       "      <td>2</td>\n",
       "    </tr>\n",
       "    <tr>\n",
       "      <th>3</th>\n",
       "      <td>3</td>\n",
       "      <td>CBL</td>\n",
       "      <td>N454D</td>\n",
       "      <td>3</td>\n",
       "    </tr>\n",
       "    <tr>\n",
       "      <th>4</th>\n",
       "      <td>4</td>\n",
       "      <td>CBL</td>\n",
       "      <td>L399V</td>\n",
       "      <td>4</td>\n",
       "    </tr>\n",
       "  </tbody>\n",
       "</table>\n",
       "</div>"
      ],
      "text/plain": [
       "   ID    Gene             Variation  Class\n",
       "0   0  FAM58A  Truncating Mutations      1\n",
       "1   1     CBL                 W802*      2\n",
       "2   2     CBL                 Q249E      2\n",
       "3   3     CBL                 N454D      3\n",
       "4   4     CBL                 L399V      4"
      ]
     },
     "execution_count": 3,
     "metadata": {},
     "output_type": "execute_result"
    }
   ],
   "source": [
    "data_variants.head(5)\n"
   ]
  },
  {
   "cell_type": "markdown",
   "metadata": {},
   "source": [
    "<p>\n",
    "    Our data is composed of 4 features <br>\n",
    "    <ul>\n",
    "        <li><b>ID : </b>row id used to link the mutation to the clinical evidence</li>\n",
    "        <li><b>Gene : </b>the gene where this genetic mutation is located </li>\n",
    "        <li><b>Variation : </b>the aminoacid change for this mutations </li>\n",
    "        <li><b>Class :</b> class value 1-9, this genetic mutation has been classified on</li>\n",
    "    </ul>"
   ]
  },
  {
   "cell_type": "code",
   "execution_count": 4,
   "metadata": {},
   "outputs": [
    {
     "data": {
      "text/plain": [
       "(3321, 4)"
      ]
     },
     "execution_count": 4,
     "metadata": {},
     "output_type": "execute_result"
    }
   ],
   "source": [
    "data_variants.shape"
   ]
  },
  {
   "cell_type": "code",
   "execution_count": 5,
   "metadata": {},
   "outputs": [
    {
     "data": {
      "text/html": [
       "<div>\n",
       "<style scoped>\n",
       "    .dataframe tbody tr th:only-of-type {\n",
       "        vertical-align: middle;\n",
       "    }\n",
       "\n",
       "    .dataframe tbody tr th {\n",
       "        vertical-align: top;\n",
       "    }\n",
       "\n",
       "    .dataframe thead th {\n",
       "        text-align: right;\n",
       "    }\n",
       "</style>\n",
       "<table border=\"1\" class=\"dataframe\">\n",
       "  <thead>\n",
       "    <tr style=\"text-align: right;\">\n",
       "      <th></th>\n",
       "      <th>ID</th>\n",
       "      <th>TEXT</th>\n",
       "    </tr>\n",
       "  </thead>\n",
       "  <tbody>\n",
       "    <tr>\n",
       "      <th>0</th>\n",
       "      <td>0</td>\n",
       "      <td>Cyclin-dependent kinases (CDKs) regulate a var...</td>\n",
       "    </tr>\n",
       "    <tr>\n",
       "      <th>1</th>\n",
       "      <td>1</td>\n",
       "      <td>Abstract Background  Non-small cell lung canc...</td>\n",
       "    </tr>\n",
       "    <tr>\n",
       "      <th>2</th>\n",
       "      <td>2</td>\n",
       "      <td>Abstract Background  Non-small cell lung canc...</td>\n",
       "    </tr>\n",
       "    <tr>\n",
       "      <th>3</th>\n",
       "      <td>3</td>\n",
       "      <td>Recent evidence has demonstrated that acquired...</td>\n",
       "    </tr>\n",
       "    <tr>\n",
       "      <th>4</th>\n",
       "      <td>4</td>\n",
       "      <td>Oncogenic mutations in the monomeric Casitas B...</td>\n",
       "    </tr>\n",
       "  </tbody>\n",
       "</table>\n",
       "</div>"
      ],
      "text/plain": [
       "   ID                                               TEXT\n",
       "0   0  Cyclin-dependent kinases (CDKs) regulate a var...\n",
       "1   1   Abstract Background  Non-small cell lung canc...\n",
       "2   2   Abstract Background  Non-small cell lung canc...\n",
       "3   3  Recent evidence has demonstrated that acquired...\n",
       "4   4  Oncogenic mutations in the monomeric Casitas B..."
      ]
     },
     "execution_count": 5,
     "metadata": {},
     "output_type": "execute_result"
    }
   ],
   "source": [
    "data_text.head(5)"
   ]
  },
  {
   "cell_type": "markdown",
   "metadata": {},
   "source": [
    "We see the above dataset contain only two features: ID and the text. We have to preprocess the text also."
   ]
  },
  {
   "cell_type": "code",
   "execution_count": 6,
   "metadata": {},
   "outputs": [
    {
     "data": {
      "text/plain": [
       "(3321, 2)"
      ]
     },
     "execution_count": 6,
     "metadata": {},
     "output_type": "execute_result"
    }
   ],
   "source": [
    "data_text.shape"
   ]
  },
  {
   "cell_type": "code",
   "execution_count": 7,
   "metadata": {},
   "outputs": [
    {
     "data": {
      "text/plain": [
       "array([1, 2, 3, 4, 5, 6, 7, 8, 9], dtype=int64)"
      ]
     },
     "execution_count": 7,
     "metadata": {},
     "output_type": "execute_result"
    }
   ],
   "source": [
    "# Data present in class column\n",
    "data_variants.Class.unique()"
   ]
  },
  {
   "cell_type": "code",
   "execution_count": 8,
   "metadata": {},
   "outputs": [],
   "source": [
    "#Let start processing the text file. We need to remove the stop words irrelvant to our goal like english prepositions.\n",
    "#We will remove these useless words called stop words with NLTK library.\n",
    "stop_words = set(stopwords.words('english'))\n"
   ]
  },
  {
   "cell_type": "markdown",
   "metadata": {},
   "source": [
    "So, we have to deal with a Multi class classification problem.\n"
   ]
  },
  {
   "cell_type": "markdown",
   "metadata": {},
   "source": [
    "# Data preprocessing\n"
   ]
  },
  {
   "cell_type": "code",
   "execution_count": 9,
   "metadata": {},
   "outputs": [],
   "source": [
    "\n",
    "#Let define a function for that.\n",
    "def data_text_(text_file, indx, col):\n",
    "    # Remove int values from the text dataset\n",
    "    if type(text_file) is not int:\n",
    "        my_string = \"\"\n",
    "        # replacing all special char with space\n",
    "        text_file = re.sub('[^a-zA-Z0-9\\n]', ' ', str(text_file))\n",
    "        # replacing multiple spaces with a single space\n",
    "        text_file = re.sub('\\s+',' ', str(text_file))\n",
    "        # text lower-case \n",
    "        text_file = text_file.lower()        \n",
    "        for word in text_file.split():\n",
    "            if not word in stop_words:\n",
    "                my_string += word + \" \"\n",
    "        \n",
    "        data_text[col][indx] = my_string\n",
    "    "
   ]
  },
  {
   "cell_type": "code",
   "execution_count": 10,
   "metadata": {},
   "outputs": [],
   "source": [
    "\n",
    "for index, row in data_text.iterrows():\n",
    "    if type(row['TEXT']) is str:\n",
    "        data_text_(row['TEXT'], index, 'TEXT')"
   ]
  },
  {
   "cell_type": "code",
   "execution_count": 11,
   "metadata": {},
   "outputs": [
    {
     "data": {
      "text/html": [
       "<div>\n",
       "<style scoped>\n",
       "    .dataframe tbody tr th:only-of-type {\n",
       "        vertical-align: middle;\n",
       "    }\n",
       "\n",
       "    .dataframe tbody tr th {\n",
       "        vertical-align: top;\n",
       "    }\n",
       "\n",
       "    .dataframe thead th {\n",
       "        text-align: right;\n",
       "    }\n",
       "</style>\n",
       "<table border=\"1\" class=\"dataframe\">\n",
       "  <thead>\n",
       "    <tr style=\"text-align: right;\">\n",
       "      <th></th>\n",
       "      <th>ID</th>\n",
       "      <th>Gene</th>\n",
       "      <th>Variation</th>\n",
       "      <th>Class</th>\n",
       "      <th>TEXT</th>\n",
       "    </tr>\n",
       "  </thead>\n",
       "  <tbody>\n",
       "    <tr>\n",
       "      <th>0</th>\n",
       "      <td>0</td>\n",
       "      <td>FAM58A</td>\n",
       "      <td>Truncating Mutations</td>\n",
       "      <td>1</td>\n",
       "      <td>cyclin dependent kinases cdks regulate variety...</td>\n",
       "    </tr>\n",
       "    <tr>\n",
       "      <th>1</th>\n",
       "      <td>1</td>\n",
       "      <td>CBL</td>\n",
       "      <td>W802*</td>\n",
       "      <td>2</td>\n",
       "      <td>abstract background non small cell lung cancer...</td>\n",
       "    </tr>\n",
       "    <tr>\n",
       "      <th>2</th>\n",
       "      <td>2</td>\n",
       "      <td>CBL</td>\n",
       "      <td>Q249E</td>\n",
       "      <td>2</td>\n",
       "      <td>abstract background non small cell lung cancer...</td>\n",
       "    </tr>\n",
       "    <tr>\n",
       "      <th>3</th>\n",
       "      <td>3</td>\n",
       "      <td>CBL</td>\n",
       "      <td>N454D</td>\n",
       "      <td>3</td>\n",
       "      <td>recent evidence demonstrated acquired uniparen...</td>\n",
       "    </tr>\n",
       "    <tr>\n",
       "      <th>4</th>\n",
       "      <td>4</td>\n",
       "      <td>CBL</td>\n",
       "      <td>L399V</td>\n",
       "      <td>4</td>\n",
       "      <td>oncogenic mutations monomeric casitas b lineag...</td>\n",
       "    </tr>\n",
       "  </tbody>\n",
       "</table>\n",
       "</div>"
      ],
      "text/plain": [
       "   ID    Gene             Variation  Class  \\\n",
       "0   0  FAM58A  Truncating Mutations      1   \n",
       "1   1     CBL                 W802*      2   \n",
       "2   2     CBL                 Q249E      2   \n",
       "3   3     CBL                 N454D      3   \n",
       "4   4     CBL                 L399V      4   \n",
       "\n",
       "                                                TEXT  \n",
       "0  cyclin dependent kinases cdks regulate variety...  \n",
       "1  abstract background non small cell lung cancer...  \n",
       "2  abstract background non small cell lung cancer...  \n",
       "3  recent evidence demonstrated acquired uniparen...  \n",
       "4  oncogenic mutations monomeric casitas b lineag...  "
      ]
     },
     "execution_count": 11,
     "metadata": {},
     "output_type": "execute_result"
    }
   ],
   "source": [
    "#Now we are merging both dataset (ID is in common feature) in order to have a unified dataset and focus better in our classification goal.\n",
    "genetic_dataset=pd.merge(data_variants,data_text,on='ID',how='left')\n",
    "genetic_dataset.head(5)"
   ]
  },
  {
   "cell_type": "code",
   "execution_count": 12,
   "metadata": {},
   "outputs": [],
   "source": [
    "#Next, we are removing spaces on text of each column of variation and gene with '_'\n",
    "genetic_dataset.Gene      = genetic_dataset.Gene.str.replace('\\s+', '_')\n",
    "genetic_dataset.Variation = genetic_dataset.Variation.str.replace('\\s+', '_')\n"
   ]
  },
  {
   "cell_type": "code",
   "execution_count": 13,
   "metadata": {},
   "outputs": [
    {
     "data": {
      "text/plain": [
       "ID           0\n",
       "Gene         0\n",
       "Variation    0\n",
       "Class        0\n",
       "TEXT         5\n",
       "dtype: int64"
      ]
     },
     "execution_count": 13,
     "metadata": {},
     "output_type": "execute_result"
    }
   ],
   "source": [
    "#Next we are checking for missing values\n",
    "genetic_dataset.isnull().sum()"
   ]
  },
  {
   "cell_type": "code",
   "execution_count": 14,
   "metadata": {},
   "outputs": [],
   "source": [
    "#In order to deal with missing values we chose not to remove the rows but to concat the info from Gene and Variation in respective missing places.\n",
    "genetic_dataset.loc[genetic_dataset['TEXT'].isnull(),'TEXT'] = genetic_dataset['Gene'] +' '+genetic_dataset['Variation']"
   ]
  },
  {
   "cell_type": "code",
   "execution_count": 15,
   "metadata": {},
   "outputs": [
    {
     "data": {
      "text/plain": [
       "ID           0\n",
       "Gene         0\n",
       "Variation    0\n",
       "Class        0\n",
       "TEXT         0\n",
       "dtype: int64"
      ]
     },
     "execution_count": 15,
     "metadata": {},
     "output_type": "execute_result"
    }
   ],
   "source": [
    "#Let check again for missing values\n",
    "genetic_dataset.isnull().sum()"
   ]
  },
  {
   "cell_type": "code",
   "execution_count": 16,
   "metadata": {},
   "outputs": [],
   "source": [
    "#X= genetic_dataset.drop(\"Class\",axis=1)\n",
    "#Y=genetic_dataset.Class\n",
    "Y = genetic_dataset['Class'].values\n",
    "# Now, we are splitting our data into train, test and cross validation\n",
    "# Splitting the data into train and test set \n",
    "X_train, X_test, y_train, y_test = train_test_split(genetic_dataset, Y, test_size=0.2)\n",
    "# split the train data now into train validation and cross validation\n",
    "x_train_cv, x_test_cv, y_train_cv, y_test_cv= train_test_split(X_train, y_train,test_size=0.2)\n"
   ]
  },
  {
   "cell_type": "code",
   "execution_count": null,
   "metadata": {},
   "outputs": [],
   "source": []
  },
  {
   "cell_type": "code",
   "execution_count": 17,
   "metadata": {},
   "outputs": [
    {
     "name": "stdout",
     "output_type": "stream",
     "text": [
      "Number of data points in train data: 2124\n",
      "Number of data points in test data: 665\n",
      "Number of data points in cross validation data: 532\n"
     ]
    }
   ],
   "source": [
    "#Let verify how the split of data is going\n",
    "print('Number of data points in train data:', x_train_cv.shape[0])\n",
    "print('Number of data points in test data:', X_test.shape[0])\n",
    "print('Number of data points in cross validation data:', x_test_cv.shape[0])"
   ]
  },
  {
   "cell_type": "code",
   "execution_count": 18,
   "metadata": {},
   "outputs": [],
   "source": [
    "train_data_distrib = x_train_cv['Class'].value_counts().sort_values()\n",
    "test_data_distrib = X_test['Class'].value_counts().sort_values()\n",
    "cv_data_distrib = x_test_cv['Class'].value_counts().sort_values()"
   ]
  },
  {
   "cell_type": "code",
   "execution_count": 19,
   "metadata": {},
   "outputs": [
    {
     "data": {
      "image/png": "[encoded data removed]",
      "text/plain": [
       "<Figure size 432x288 with 1 Axes>"
      ]
     },
     "metadata": {
      "needs_background": "light"
     },
     "output_type": "display_data"
    }
   ],
   "source": [
    "train_data_distrib.plot(kind='bar')\n",
    "plt.xlabel('Class')\n",
    "plt.ylabel(' Data points per Class')\n",
    "plt.title('Distribution of class label in train data')\n",
    "plt.grid()\n",
    "plt.show()"
   ]
  },
  {
   "cell_type": "code",
   "execution_count": 20,
   "metadata": {},
   "outputs": [
    {
     "data": {
      "image/png": "[encoded data removed]",
      "text/plain": [
       "<Figure size 432x288 with 1 Axes>"
      ]
     },
     "metadata": {
      "needs_background": "light"
     },
     "output_type": "display_data"
    }
   ],
   "source": [
    "test_data_distrib.plot(kind='bar')\n",
    "plt.xlabel('Class')\n",
    "plt.ylabel(' Data points per Class')\n",
    "plt.title('Distribution of class label in test data')\n",
    "plt.grid()\n",
    "plt.show()"
   ]
  },
  {
   "cell_type": "code",
   "execution_count": 21,
   "metadata": {},
   "outputs": [
    {
     "data": {
      "image/png": "[encoded data removed]",
      "text/plain": [
       "<Figure size 432x288 with 1 Axes>"
      ]
     },
     "metadata": {
      "needs_background": "light"
     },
     "output_type": "display_data"
    }
   ],
   "source": [
    "cv_data_distrib.plot(kind='bar')\n",
    "plt.xlabel('Class')\n",
    "plt.ylabel(' Data points per Class')\n",
    "plt.title('Distribution of class label in cross validation data')\n",
    "plt.grid()\n",
    "plt.show()"
   ]
  },
  {
   "cell_type": "code",
   "execution_count": 22,
   "metadata": {},
   "outputs": [],
   "source": [
    "\n",
    "#We need to convert our categorical variables into numerical for bulding machine learning algorithms\n",
    "#Let start with gene column\n",
    "#One hot encoding for gene column\n",
    "gene_vector=CountVectorizer()\n",
    "train_gene_oneHotCod=gene_vector.fit_transform(x_train_cv['Gene'])\n",
    "test_gene_oneHotCod=gene_vector.transform(X_test['Gene'])\n",
    "cv_gene_oneHotCod=gene_vector.transform(x_test_cv['Gene'])\n",
    "#final_train, final_test = train_gene_oneHotCod.align(test_gene_oneHotCod, join='inner', axis=1) "
   ]
  },
  {
   "cell_type": "code",
   "execution_count": 23,
   "metadata": {},
   "outputs": [
    {
     "name": "stdout",
     "output_type": "stream",
     "text": [
      "(2124, 235)\n",
      "(665, 235)\n",
      "(532, 235)\n"
     ]
    }
   ],
   "source": [
    "print(train_gene_oneHotCod.shape)\n",
    "print(test_gene_oneHotCod.shape)\n",
    "print(cv_gene_oneHotCod.shape)"
   ]
  },
  {
   "cell_type": "code",
   "execution_count": 24,
   "metadata": {},
   "outputs": [],
   "source": [
    "#Let create Response encoding for gene\n",
    "def feat_dict(alpha, feature, df):\n",
    "    # value_count: it contains a dict \n",
    "    # print(X_train['Gene'].value_counts())\n",
    "    # output:\n",
    "    #        {BRCA1      174\n",
    "    #         TP53       106\n",
    "    #         EGFR        86\n",
    "    #         BRCA2       75\n",
    "    \n",
    "    #         ...}\n",
    "   \n",
    "    value_count = x_train_cv[feature].value_counts()\n",
    "    \n",
    "    # gv_dict : Gene Variation Dict, which contains the probability array for each gene/variation\n",
    "    gene_dict = dict()\n",
    "    \n",
    "    # denominator will contain the number of time that particular feature occured in whole data\n",
    "    for i, val in value_count.items():\n",
    "        # vec will contain (p(yi==1/Gi) probability of gene/variation belongs to perticular class\n",
    "        # vec is 9 diamensional vector\n",
    "        vec = []\n",
    "        for k in range(1,10):\n",
    "            # print(X_train.loc[(train_df['Class']==1) & (X_train['Gene']=='BRCA1')])\n",
    "            #         ID   Gene             Variation  Class  \n",
    "            # 2470  2470  BRCA1                S1715C      1   \n",
    "            # 2486  2486  BRCA1                S1841R      1   \n",
    "            # 2614  2614  BRCA1                   M1R      1   \n",
    "      \n",
    "            # nr_rows.shape[0] will return the number of rows\n",
    "\n",
    "            nr_rows = x_train_cv.loc[(x_train_cv['Class']==k) & (x_train_cv[feature]==i)]\n",
    "            \n",
    "            # cls_cnt.shape[0](numerator) will contain the number of time that particular feature occured in whole data\n",
    "            vec.append((nr_rows.shape[0] + alpha*10)/ (val + 90*alpha))\n",
    "\n",
    "        # we are adding the gene/variation to the dict as key and vec as value\n",
    "        gene_dict[i]=vec\n",
    "    return gene_dict\n",
    "\n",
    "# creating list from dictionary of probabilities\n",
    "def gv_feature(alpha, feature,df):\n",
    "    # print(gene_dict)\n",
    "    #     {'BRCA1': [0.20075757575757575, 0.03787878787878788, 0.068181818181818177, 0.13636363636363635, 0.25, 0.19318181818181818, 0.03787878787878788, 0.03787878787878788, 0.03787878787878788], \n",
    "    #      'TP53': [0.32142857142857145, 0.061224489795918366, 0.061224489795918366, 0.27040816326530615, 0.061224489795918366, 0.066326530612244902, 0.051020408163265307, 0.051020408163265307, 0.056122448979591837], \n",
    "    #      'EGFR': [0.056818181818181816, 0.21590909090909091, 0.0625, 0.068181818181818177, 0.068181818181818177, 0.0625, 0.34659090909090912, 0.0625, 0.056818181818181816], \n",
    "    #   ...\n",
    "    #     }\n",
    "    gv_dict = feat_dict(alpha, feature, df)\n",
    "    \n",
    "    value_count = x_train_cv[feature].value_counts()\n",
    "    \n",
    "    # gv_fea: Gene_variation feature, it will contain the feature for each feature value in the data\n",
    "    gv_fea = []\n",
    "    # for every feature values in the given data frame we will check if it is there in the train data then we will add the feature to gv_fea\n",
    "    # if not we will add [1/9,1/9,1/9,1/9,1/9,1/9,1/9,1/9,1/9] to gv_fea\n",
    "    for index, row in df.iterrows():\n",
    "        if row[feature] in dict(value_count).keys():\n",
    "            gv_fea.append(gv_dict[row[feature]])\n",
    "        else:\n",
    "            gv_fea.append([1/9,1/9,1/9,1/9,1/9,1/9,1/9,1/9,1/9])\n",
    "    return gv_fea"
   ]
  },
  {
   "cell_type": "code",
   "execution_count": 25,
   "metadata": {},
   "outputs": [],
   "source": [
    "#response-coding of the Gene feature\n",
    "# alpha is used for laplace smoothing\n",
    "alpha = 1\n",
    "# train gene feature\n",
    "train_gene_feature_responseCoding = np.array(gv_feature(alpha, \"Gene\", x_train_cv))\n",
    "# test gene feature\n",
    "test_gene_feature_responseCoding = np.array(gv_feature(alpha, \"Gene\", X_test))\n",
    "# cross validation gene feature\n",
    "cv_gene_feature_responseCoding = np.array(gv_feature(alpha, \"Gene\", x_test_cv))"
   ]
  },
  {
   "cell_type": "code",
   "execution_count": 26,
   "metadata": {},
   "outputs": [
    {
     "name": "stdout",
     "output_type": "stream",
     "text": [
      "[[0.12087912 0.10989011 0.10989011 ... 0.10989011 0.10989011 0.10989011]\n",
      " [0.09433962 0.11320755 0.09433962 ... 0.16037736 0.09433962 0.09433962]\n",
      " [0.17647059 0.08403361 0.08403361 ... 0.09243697 0.08403361 0.08403361]\n",
      " ...\n",
      " [0.0862069  0.10344828 0.0862069  ... 0.25862069 0.0862069  0.0862069 ]\n",
      " [0.13978495 0.10752688 0.10752688 ... 0.10752688 0.10752688 0.10752688]\n",
      " [0.06410256 0.22435897 0.06410256 ... 0.32051282 0.06410256 0.06410256]]\n"
     ]
    }
   ],
   "source": [
    "print(train_gene_feature_responseCoding )"
   ]
  },
  {
   "cell_type": "code",
   "execution_count": 27,
   "metadata": {},
   "outputs": [
    {
     "data": {
      "text/plain": [
       "(2124, 9)"
      ]
     },
     "execution_count": 27,
     "metadata": {},
     "output_type": "execute_result"
    }
   ],
   "source": [
    "train_gene_feature_responseCoding.shape"
   ]
  },
  {
   "cell_type": "code",
   "execution_count": 28,
   "metadata": {},
   "outputs": [
    {
     "data": {
      "text/plain": [
       "(665, 9)"
      ]
     },
     "execution_count": 28,
     "metadata": {},
     "output_type": "execute_result"
    }
   ],
   "source": [
    "test_gene_feature_responseCoding.shape"
   ]
  },
  {
   "cell_type": "code",
   "execution_count": 29,
   "metadata": {},
   "outputs": [
    {
     "data": {
      "text/plain": [
       "(532, 9)"
      ]
     },
     "execution_count": 29,
     "metadata": {},
     "output_type": "execute_result"
    }
   ],
   "source": [
    "cv_gene_feature_responseCoding.shape"
   ]
  },
  {
   "cell_type": "code",
   "execution_count": 30,
   "metadata": {},
   "outputs": [],
   "source": [
    "# one-hot encoding of variation feature.\n",
    "variation_vector = CountVectorizer()\n",
    "train_variation_oneHotCod=variation_vector.fit_transform(x_train_cv['Variation'])\n",
    "test_variation_oneHotCod=variation_vector.transform(X_test['Variation'])\n",
    "cv_variation_oneHotCod=variation_vector.transform(x_test_cv['Variation'])\n"
   ]
  },
  {
   "cell_type": "code",
   "execution_count": 31,
   "metadata": {},
   "outputs": [
    {
     "name": "stdout",
     "output_type": "stream",
     "text": [
      "(2124, 1963)\n",
      "(665, 1963)\n",
      "(532, 1963)\n"
     ]
    }
   ],
   "source": [
    "print(train_variation_oneHotCod.shape)\n",
    "print(test_variation_oneHotCod.shape)\n",
    "print(cv_variation_oneHotCod.shape)"
   ]
  },
  {
   "cell_type": "code",
   "execution_count": 32,
   "metadata": {},
   "outputs": [],
   "source": [
    "#Encoding response for variation\n",
    "alpha = 1\n",
    "# train gene feature\n",
    "train_variation_feature_responseCoding = np.array(gv_feature(alpha, \"Variation\", x_train_cv))\n",
    "# test gene feature\n",
    "test_variation_feature_responseCoding = np.array(gv_feature(alpha, \"Variation\", X_test))\n",
    "# cross validation gene feature\n",
    "cv_variation_feature_responseCoding = np.array(gv_feature(alpha, \"Variation\", x_test_cv))"
   ]
  },
  {
   "cell_type": "code",
   "execution_count": 33,
   "metadata": {},
   "outputs": [
    {
     "data": {
      "text/plain": [
       "(2124, 9)"
      ]
     },
     "execution_count": 33,
     "metadata": {},
     "output_type": "execute_result"
    }
   ],
   "source": [
    "train_variation_feature_responseCoding.shape\n"
   ]
  },
  {
   "cell_type": "code",
   "execution_count": 34,
   "metadata": {},
   "outputs": [
    {
     "data": {
      "text/plain": [
       "defaultdict(int,\n",
       "            {'cyclin': 13219,\n",
       "             'dependent': 18497,\n",
       "             'kinases': 10205,\n",
       "             'cdks': 592,\n",
       "             'regulate': 3520,\n",
       "             'variety': 3150,\n",
       "             'fundamental': 611,\n",
       "             'cellular': 12158,\n",
       "             'processes': 2641,\n",
       "             'cdk10': 130,\n",
       "             'stands': 107,\n",
       "             'one': 40728,\n",
       "             'last': 2389,\n",
       "             'orphan': 74,\n",
       "             'activating': 15128,\n",
       "             'identified': 38268,\n",
       "             'kinase': 65798,\n",
       "             'activity': 76677,\n",
       "             'revealed': 12187,\n",
       "             'previous': 11289,\n",
       "             'work': 3738,\n",
       "             'shown': 43895,\n",
       "             'silencing': 1497,\n",
       "             'increases': 2946,\n",
       "             'ets2': 300,\n",
       "             'v': 8144,\n",
       "             'ets': 2282,\n",
       "             'erythroblastosis': 33,\n",
       "             'virus': 1777,\n",
       "             'e26': 19,\n",
       "             'oncogene': 5571,\n",
       "             'homolog': 1280,\n",
       "             '2': 154194,\n",
       "             'driven': 4652,\n",
       "             'activation': 50169,\n",
       "             'mapk': 7981,\n",
       "             'pathway': 26614,\n",
       "             'confers': 1407,\n",
       "             'tamoxifen': 371,\n",
       "             'resistance': 29049,\n",
       "             'breast': 22735,\n",
       "             'cancer': 99162,\n",
       "             'cells': 185832,\n",
       "             'precise': 1178,\n",
       "             'mechanisms': 11241,\n",
       "             'modulates': 423,\n",
       "             'generally': 2902,\n",
       "             'functions': 7678,\n",
       "             'remain': 2089,\n",
       "             'elusive': 320,\n",
       "             'demonstrate': 4887,\n",
       "             'identifying': 1548,\n",
       "             'product': 4111,\n",
       "             'fam58a': 35,\n",
       "             'whose': 3383,\n",
       "             'mutations': 238168,\n",
       "             'cause': 6723,\n",
       "             'star': 273,\n",
       "             'syndrome': 8706,\n",
       "             'human': 38504,\n",
       "             'developmental': 2335,\n",
       "             'anomaly': 163,\n",
       "             'features': 7057,\n",
       "             'include': 5900,\n",
       "             'toe': 27,\n",
       "             'syndactyly': 62,\n",
       "             'telecanthus': 7,\n",
       "             'anogenital': 4,\n",
       "             'renal': 2302,\n",
       "             'malformations': 236,\n",
       "             'show': 14390,\n",
       "             'associated': 40497,\n",
       "             'mutants': 53190,\n",
       "             'unable': 4213,\n",
       "             'interact': 4881,\n",
       "             'phenocopies': 88,\n",
       "             'increasing': 3817,\n",
       "             'c': 101888,\n",
       "             'raf': 28940,\n",
       "             'conferring': 693,\n",
       "             'phosphorylates': 838,\n",
       "             'vitro': 21001,\n",
       "             'positively': 1297,\n",
       "             'controls': 9235,\n",
       "             'degradation': 6145,\n",
       "             'proteasome': 1443,\n",
       "             'protein': 84720,\n",
       "             'levels': 34264,\n",
       "             'increased': 23251,\n",
       "             'derived': 12974,\n",
       "             'patient': 24926,\n",
       "             'increase': 11621,\n",
       "             'attributable': 476,\n",
       "             'decreased': 7044,\n",
       "             'altogether': 478,\n",
       "             'results': 45962,\n",
       "             'reveal': 2731,\n",
       "             'additional': 15428,\n",
       "             'regulatory': 6947,\n",
       "             'mechanism': 11941,\n",
       "             'plays': 3266,\n",
       "             'key': 6031,\n",
       "             'roles': 3393,\n",
       "             'development': 14326,\n",
       "             'also': 66358,\n",
       "             'shed': 373,\n",
       "             'light': 2487,\n",
       "             'molecular': 18282,\n",
       "             'underlying': 3092,\n",
       "             'play': 4062,\n",
       "             'pivotal': 444,\n",
       "             'role': 20759,\n",
       "             'control': 27445,\n",
       "             'number': 28002,\n",
       "             '1': 214996,\n",
       "             'genome': 8058,\n",
       "             'contains': 5993,\n",
       "             '21': 18593,\n",
       "             'genes': 40875,\n",
       "             'encoding': 6872,\n",
       "             'proteins': 40639,\n",
       "             'considered': 6630,\n",
       "             'members': 6115,\n",
       "             'cdk': 1589,\n",
       "             'family': 21159,\n",
       "             'owing': 943,\n",
       "             'sequence': 27616,\n",
       "             'similarity': 1066,\n",
       "             'bona': 467,\n",
       "             'fide': 476,\n",
       "             'known': 20397,\n",
       "             'activated': 15182,\n",
       "             'cyclins': 668,\n",
       "             'although': 24496,\n",
       "             'discovered': 2057,\n",
       "             'almost': 2904,\n",
       "             '20': 34206,\n",
       "             'ago': 777,\n",
       "             '3': 135240,\n",
       "             '4': 84951,\n",
       "             'remains': 5257,\n",
       "             'two': 52285,\n",
       "             'without': 12110,\n",
       "             'partner': 2107,\n",
       "             'knowledge': 2312,\n",
       "             'gap': 4628,\n",
       "             'largely': 2095,\n",
       "             'impeded': 17,\n",
       "             'exploration': 143,\n",
       "             'biological': 4729,\n",
       "             'act': 3008,\n",
       "             'positive': 17520,\n",
       "             'cell': 126657,\n",
       "             'cycle': 10216,\n",
       "             'regulator': 1874,\n",
       "             '5': 104862,\n",
       "             '6': 54070,\n",
       "             'tumor': 69514,\n",
       "             'suppressor': 9466,\n",
       "             'others': 3813,\n",
       "             '7': 47979,\n",
       "             '8': 43605,\n",
       "             'interacts': 3182,\n",
       "             'transcription': 17249,\n",
       "             'factor': 16154,\n",
       "             'inhibits': 3678,\n",
       "             'transcriptional': 15748,\n",
       "             'unknown': 6176,\n",
       "             '9': 34919,\n",
       "             'knockdown': 4626,\n",
       "             'derepresses': 7,\n",
       "             'expression': 77652,\n",
       "             'activates': 2574,\n",
       "             'induces': 3017,\n",
       "             'mcf7': 1226,\n",
       "             'deorphanize': 1,\n",
       "             'binding': 62832,\n",
       "             'gene': 61393,\n",
       "             'predict': 3920,\n",
       "             'absence': 11217,\n",
       "             'truncation': 2141,\n",
       "             'heterozygous': 4938,\n",
       "             'females': 1210,\n",
       "             '10': 56195,\n",
       "             'however': 31747,\n",
       "             'pathogenesis': 2709,\n",
       "             'recombinant': 3956,\n",
       "             'heterodimer': 2442,\n",
       "             'active': 16116,\n",
       "             'phospho': 6783,\n",
       "             'erk': 12743,\n",
       "             'inducing': 1631,\n",
       "             'estrogen': 1982,\n",
       "             'receptor': 25668,\n",
       "             'er': 6383,\n",
       "             'phosphorylation': 30092,\n",
       "             'neighboring': 583,\n",
       "             'serines': 112,\n",
       "             'finally': 5327,\n",
       "             'detect': 3758,\n",
       "             'level': 14769,\n",
       "             'observed': 32950,\n",
       "             'sectionnext': 55,\n",
       "             'sectionresultsa': 1,\n",
       "             'yeast': 9148,\n",
       "             'hybrid': 1476,\n",
       "             'y2h': 150,\n",
       "             'screen': 3913,\n",
       "             'unveiled': 31,\n",
       "             'interaction': 20099,\n",
       "             'signal': 10027,\n",
       "             'mouse': 13371,\n",
       "             'terminal': 18811,\n",
       "             'half': 4241,\n",
       "             'presents': 511,\n",
       "             'strong': 7243,\n",
       "             'homology': 3198,\n",
       "             'proposed': 3901,\n",
       "             'name': 390,\n",
       "             '11': 29063,\n",
       "             'thus': 19841,\n",
       "             'performed': 24239,\n",
       "             'mating': 98,\n",
       "             'assays': 26559,\n",
       "             'determine': 9894,\n",
       "             'whether': 17089,\n",
       "             'fig': 104569,\n",
       "             'longest': 217,\n",
       "             'isoform': 2802,\n",
       "             'p1': 818,\n",
       "             'expressed': 19518,\n",
       "             'bait': 142,\n",
       "             'produced': 3383,\n",
       "             'phenotype': 10090,\n",
       "             'full': 12581,\n",
       "             'length': 8625,\n",
       "             'prey': 33,\n",
       "             'detectable': 3219,\n",
       "             'd1': 10000,\n",
       "             'p21': 3729,\n",
       "             'cip1': 221,\n",
       "             'cdi1': 1,\n",
       "             'kap': 6,\n",
       "             'partners': 1863,\n",
       "             '1b': 6248,\n",
       "             'cdk1': 205,\n",
       "             'cdk3': 20,\n",
       "             'signals': 6086,\n",
       "             'albeit': 975,\n",
       "             'notably': 3963,\n",
       "             'weaker': 748,\n",
       "             'respectively': 16112,\n",
       "             's1a': 730,\n",
       "             'tested': 14454,\n",
       "             'different': 30441,\n",
       "             'isoforms': 3827,\n",
       "             'originating': 404,\n",
       "             'alternative': 6289,\n",
       "             'splicing': 9206,\n",
       "             'truncated': 3314,\n",
       "             'corresponding': 8569,\n",
       "             'hypothetical': 180,\n",
       "             'products': 5409,\n",
       "             'mutated': 19493,\n",
       "             'found': 37643,\n",
       "             'patients': 86447,\n",
       "             'none': 5517,\n",
       "             'shorter': 1262,\n",
       "             'phenotypes': 3357,\n",
       "             'new': 13688,\n",
       "             'window': 1963,\n",
       "             'download': 7369,\n",
       "             'pptfig': 42,\n",
       "             'form': 11455,\n",
       "             'complex': 20011,\n",
       "             'schematic': 2249,\n",
       "             'representation': 2130,\n",
       "             'analyzed': 17460,\n",
       "             'amino': 28044,\n",
       "             'acid': 20278,\n",
       "             'numbers': 4200,\n",
       "             'indicated': 17957,\n",
       "             'black': 1755,\n",
       "             'boxes': 850,\n",
       "             'indicate': 9703,\n",
       "             'internal': 2457,\n",
       "             'deletions': 9352,\n",
       "             'red': 5587,\n",
       "             'box': 4748,\n",
       "             'indicates': 5297,\n",
       "             'differing': 468,\n",
       "             'compared': 26199,\n",
       "             'b': 57531,\n",
       "             'assay': 30960,\n",
       "             'set': 10988,\n",
       "             'baits': 29,\n",
       "             'fusion': 18219,\n",
       "             'lexa': 559,\n",
       "             'dna': 56315,\n",
       "             'domain': 65388,\n",
       "             'interacting': 2407,\n",
       "             'preys': 1,\n",
       "             'b42': 2,\n",
       "             'activator': 1436,\n",
       "             'peg202': 1,\n",
       "             'pjg4': 1,\n",
       "             'empty': 3885,\n",
       "             'plasmids': 3742,\n",
       "             'expressing': 24525,\n",
       "             'lacz': 1027,\n",
       "             'used': 38627,\n",
       "             'reporter': 8026,\n",
       "             'blue': 4605,\n",
       "             'indicative': 710,\n",
       "             'region': 22858,\n",
       "             'assayed': 2437,\n",
       "             'western': 10813,\n",
       "             'blot': 6857,\n",
       "             'analysis': 58962,\n",
       "             'myc': 14548,\n",
       "             'wt': 30123,\n",
       "             'kd': 5687,\n",
       "             'cycm': 10,\n",
       "             'v5': 1196,\n",
       "             '6his': 24,\n",
       "             'transfected': 19326,\n",
       "             'hek293': 2097,\n",
       "             'e': 21785,\n",
       "             'immunoprecipitates': 1528,\n",
       "             'obtained': 14125,\n",
       "             'using': 63497,\n",
       "             'anti': 22275,\n",
       "             'antibody': 14501,\n",
       "             'inputs': 150,\n",
       "             'correspond': 1902,\n",
       "             'g': 31696,\n",
       "             'total': 17034,\n",
       "             'lysates': 7421,\n",
       "             'coexpressing': 286,\n",
       "             'f': 10983,\n",
       "             'goat': 1039,\n",
       "             'input': 1091,\n",
       "             'corresponds': 1692,\n",
       "             '30': 20806,\n",
       "             'lower': 10063,\n",
       "             'band': 2448,\n",
       "             'doublet': 202,\n",
       "             'upper': 2148,\n",
       "             'panel': 8864,\n",
       "             'comigrates': 6,\n",
       "             'exogenously': 316,\n",
       "             'untagged': 144,\n",
       "             'endogenous': 8497,\n",
       "             'nonspecific': 714,\n",
       "             'demonstrated': 10577,\n",
       "             'insensitivity': 242,\n",
       "             'either': 20213,\n",
       "             'overexpression': 7652,\n",
       "             'seen': 6853,\n",
       "             'left': 4562,\n",
       "             'lane': 4679,\n",
       "             's2b': 518,\n",
       "             'another': 8197,\n",
       "             'experiment': 3147,\n",
       "             'longer': 2918,\n",
       "             'gel': 5440,\n",
       "             'migration': 2570,\n",
       "             's1d': 198,\n",
       "             'next': 8004,\n",
       "             'examined': 11062,\n",
       "             'ability': 15664,\n",
       "             'wild': 56951,\n",
       "             'type': 72468,\n",
       "             'dead': 1665,\n",
       "             'mutant': 73387,\n",
       "             'bearing': 2776,\n",
       "             'd181a': 2,\n",
       "             'substitution': 11626,\n",
       "             'abolishes': 407,\n",
       "             'atp': 9328,\n",
       "             '12': 29481,\n",
       "             'embryonic': 5525,\n",
       "             'kidney': 1857,\n",
       "             'line': 23386,\n",
       "             'significantly': 16783,\n",
       "             'upon': 6989,\n",
       "             'coexpression': 753,\n",
       "             'lesser': 808,\n",
       "             'extent': 2453,\n",
       "             '1d': 2331,\n",
       "             'immunoprecipitated': 3153,\n",
       "             'detected': 17946,\n",
       "             'presence': 20163,\n",
       "             'coexpressed': 811,\n",
       "             'pair': 2197,\n",
       "             'wise': 117,\n",
       "             '1e': 1171,\n",
       "             'confirmed': 10678,\n",
       "             'observations': 5387,\n",
       "             'detecting': 520,\n",
       "             's1b': 607,\n",
       "             'experiments': 14421,\n",
       "             'lack': 5875,\n",
       "             'robust': 1979,\n",
       "             'p2': 1240,\n",
       "             's1c': 380,\n",
       "             'immunoprecipitations': 471,\n",
       "             'nontransfected': 128,\n",
       "             'antibodies': 11384,\n",
       "             'cognate': 385,\n",
       "             'blotting': 3921,\n",
       "             'readily': 1425,\n",
       "             '1f': 512,\n",
       "             'confirm': 3994,\n",
       "             'physical': 984,\n",
       "             'unveil': 16,\n",
       "             'hypothesized': 1501,\n",
       "             'gst': 4715,\n",
       "             'strepii': 11,\n",
       "             'insect': 636,\n",
       "             'individually': 557,\n",
       "             'combination': 6615,\n",
       "             'copurified': 67,\n",
       "             'confirming': 1635,\n",
       "             'yet': 4602,\n",
       "             'model': 16524,\n",
       "             '2a': 7274,\n",
       "             'purified': 6236,\n",
       "             'histone': 3984,\n",
       "             'h1': 876,\n",
       "             'generic': 216,\n",
       "             'substrate': 9154,\n",
       "             'alone': 6435,\n",
       "             'investigated': 5049,\n",
       "             '1c': 3885,\n",
       "             'whereas': 19053,\n",
       "             '2b': 5908,\n",
       "             'glutathione': 1259,\n",
       "             'sepharose': 911,\n",
       "             'matrix': 1619,\n",
       "             'capture': 1318,\n",
       "             'str': 182,\n",
       "             'blots': 2017,\n",
       "             'top': 4959,\n",
       "             'middle': 1539,\n",
       "             'determined': 12978,\n",
       "             'autoradiography': 579,\n",
       "             'added': 4583,\n",
       "             'amounts': 2474,\n",
       "             'visualized': 2080,\n",
       "             'coomassie': 462,\n",
       "             'staining': 7554,\n",
       "             'bottom': 2436,\n",
       "             'activate': 7555,\n",
       "             'involved': 11093,\n",
       "             'aim': 622,\n",
       "             'highly': 11672,\n",
       "             'specific': 27956,\n",
       "             'sirna': 4644,\n",
       "             'pools': 849,\n",
       "             'mix': 814,\n",
       "             'four': 15426,\n",
       "             'sirnas': 1182,\n",
       "             'low': 15564,\n",
       "             'final': 3459,\n",
       "             'concentration': 6364,\n",
       "             'nm': 9189,\n",
       "             'silenced': 406,\n",
       "             'targets': 6970,\n",
       "             's2': 6623,\n",
       "             'interestingly': 7989,\n",
       "             'pool': 1308,\n",
       "             'caused': 5823,\n",
       "             'marked': 3555,\n",
       "             'decrease': 4051,\n",
       "             '3a': 5958,\n",
       "             'suggest': 14003,\n",
       "             'stabilizes': 695,\n",
       "             'induced': 19233,\n",
       "             'mrna': 9263,\n",
       "             'phosphorylated': 11496,\n",
       "             'erk1': 3477,\n",
       "             'erk2': 1718,\n",
       "             's3b': 450,\n",
       "             'similarly': 5129,\n",
       "             'expected': 7633,\n",
       "             'effects': 19131,\n",
       "             'sensitivity': 14952,\n",
       "             'similar': 23859,\n",
       "             'combined': 5246,\n",
       "             'result': 13431,\n",
       "             'higher': 13268,\n",
       "             'drug': 12345,\n",
       "             's3c': 365,\n",
       "             'functional': 33414,\n",
       "             'negatively': 1685,\n",
       "             'regulates': 2958,\n",
       "             'response': 27119,\n",
       "             'mediated': 14341,\n",
       "             'quantification': 1108,\n",
       "             's3a': 581,\n",
       "             'quantitative': 3592,\n",
       "             'rt': 5475,\n",
       "             'pcr': 22568,\n",
       "             'p': 59880,\n",
       "             '0': 102278,\n",
       "             '01': 4392,\n",
       "             '001': 3872,\n",
       "             'wished': 168,\n",
       "             'explore': 1245,\n",
       "             'short': 3969,\n",
       "             'lived': 204,\n",
       "             'degraded': 744,\n",
       "             '13': 23126,\n",
       "             'straightforward': 460,\n",
       "             'hypothesis': 4477,\n",
       "             'impact': 6992,\n",
       "             'flag': 7645,\n",
       "             's4a': 486,\n",
       "             'well': 29202,\n",
       "             '4a': 4763,\n",
       "             'marginally': 376,\n",
       "             'fluctuated': 23,\n",
       "             's4b': 275,\n",
       "             'tagged': 6075,\n",
       "             'dramatically': 1055,\n",
       "             '4b': 3985,\n",
       "             'excess': 1195,\n",
       "             'major': 6691,\n",
       "             'involves': 1563,\n",
       "             'treatment': 30235,\n",
       "             'inhibitor': 20090,\n",
       "             'mg132': 635,\n",
       "             'rescued': 919,\n",
       "             'stability': 9390,\n",
       "             'cotransfected': 1396,\n",
       "             'vectors': 3150,\n",
       "             'latter': 2382,\n",
       "             'treated': 15949,\n",
       "             '16': 19318,\n",
       "             'h': 21128,\n",
       "             'proper': 1027,\n",
       "             'verified': 1765,\n",
       "             'quantifications': 9,\n",
       "             's4': 3170,\n",
       "             'mass': 2851,\n",
       "             'spectrometry': 966,\n",
       "             'existence': 1047,\n",
       "             'multiple': 13982,\n",
       "             'residues': 29659,\n",
       "             'among': 13830,\n",
       "             'positions': 5001,\n",
       "             '220': 610,\n",
       "             '225': 380,\n",
       "             'may': 49437,\n",
       "             'phosphodegron': 45,\n",
       "             '14': 25509,\n",
       "             'figs': 2847,\n",
       "             's5': 1781,\n",
       "             's8': 694,\n",
       "             'finding': 4351,\n",
       "             'ets2wt': 2,\n",
       "             'ets2sasa': 4,\n",
       "             'alanine': 1487,\n",
       "             'substitutions': 10766,\n",
       "             'sites': 13853,\n",
       "             'small': 17982,\n",
       "             'reproducible': 488,\n",
       "             'significant': 18574,\n",
       "             's9': 411,\n",
       "             'ser220': 1,\n",
       "             'ser225': 1,\n",
       "             'establish': 1401,\n",
       "             'direct': 7862,\n",
       "             'link': 1311,\n",
       "             'differ': 1510,\n",
       "             'contrary': 541,\n",
       "             'ets2dbm': 1,\n",
       "             'deletion': 16627,\n",
       "             'n': 36070,\n",
       "             'destruction': 552,\n",
       "             'previously': 28310,\n",
       "             'apc': 3527,\n",
       "             'cdh1': 780,\n",
       "             '4c': 3471,\n",
       "             'remained': 1950,\n",
       "             'insensitive': 1024,\n",
       "             '4d': 1993,\n",
       "             'directly': 7630,\n",
       "             'studied': 5183,\n",
       "             'lymphoblastoid': 531,\n",
       "             'mutation': 105671,\n",
       "             '555': 88,\n",
       "             '1g': 1210,\n",
       "             'predicted': 11268,\n",
       "             'aberrant': 4348,\n",
       "             'accordance': 1569,\n",
       "             'incomplete': 766,\n",
       "             'skewing': 31,\n",
       "             'x': 7786,\n",
       "             'chromosome': 7842,\n",
       "             'inactivation': 5431,\n",
       "             'preceding': 344,\n",
       "             '5a': 3278,\n",
       "             's10a': 48,\n",
       "             'showed': 26734,\n",
       "             '5b': 3042,\n",
       "             'indeed': 5814,\n",
       "             '5c': 1830,\n",
       "             'healthy': 1425,\n",
       "             'individual': 8624,\n",
       "             'vector': 13965,\n",
       "             'directing': 162,\n",
       "             'revealing': 526,\n",
       "             'endogenously': 163,\n",
       "             's10b': 9,\n",
       "             's10c': 7,\n",
       "             'sectiondiscussionin': 1,\n",
       "             'pregenomic': 1,\n",
       "             'era': 219,\n",
       "             'genetic': 19024,\n",
       "             'disease': 26287,\n",
       "             'far': 3744,\n",
       "             'closest': 163,\n",
       "             'paralogs': 152,\n",
       "             'within': 22417,\n",
       "             'cdk11': 5,\n",
       "             'l': 19310,\n",
       "             '15': 27424,\n",
       "             'paralog': 78,\n",
       "             's11': 175,\n",
       "             'fact': 5676,\n",
       "             'robustly': 304,\n",
       "             'suggests': 8454,\n",
       "             '17': 19267,\n",
       "             'important': 15622,\n",
       "             'regulating': 2055,\n",
       "             'relevance': 2843,\n",
       "             'supported': 2742,\n",
       "             'seem': 1421,\n",
       "             'enhance': 1536,\n",
       "             'judged': 471,\n",
       "             'much': 3684,\n",
       "             'reduced': 13255,\n",
       "             'subject': 1326,\n",
       "             'ubiquitin': 6697,\n",
       "             '18': 21692,\n",
       "             'protects': 324,\n",
       "             'least': 10910,\n",
       "             'enhanced': 6210,\n",
       "             'independently': 2131,\n",
       "             'cdk8': 328,\n",
       "             '19': 19463,\n",
       "             'uncover': 332,\n",
       "             'demonstrating': 1851,\n",
       "             'named': 595,\n",
       "             'sole': 448,\n",
       "             'basis': 6687,\n",
       "             'genuine': 85,\n",
       "             'produce': 2052,\n",
       "             'hence': 2202,\n",
       "             'regardless': 1070,\n",
       "             'mrnas': 626,\n",
       "             'undergo': 1473,\n",
       "             'nonsense': 3601,\n",
       "             'decay': 309,\n",
       "             'suggested': 6508,\n",
       "             'give': 1073,\n",
       "             'rise': 1274,\n",
       "             'affected': 9040,\n",
       "             'must': 1780,\n",
       "             'exhibit': 3123,\n",
       "             'compromised': 915,\n",
       "             'tissues': 6227,\n",
       "             'stages': 1596,\n",
       "             'interactor': 40,\n",
       "             'seems': 2896,\n",
       "             'exerted': 338,\n",
       "             'fine': 488,\n",
       "             'partially': 3036,\n",
       "             'achieved': 3160,\n",
       "             'findings': 9902,\n",
       "             'offer': 756,\n",
       "             'explanation': 1826,\n",
       "             'already': 2412,\n",
       "             'reported': 28518,\n",
       "             'regulation': 9784,\n",
       "             'bring': 285,\n",
       "             'evidence': 13084,\n",
       "             'noncanonical': 301,\n",
       "             'trcp': 357,\n",
       "             'dsmcpas': 1,\n",
       "             'precede': 50,\n",
       "             'proline': 1742,\n",
       "             'conform': 61,\n",
       "             'usual': 121,\n",
       "             'called': 2005,\n",
       "             'cdk7': 33,\n",
       "             'belong': 357,\n",
       "             'phosphorylate': 1298,\n",
       "             'motifs': 2827,\n",
       "             'non': 16215,\n",
       "             'directed': 5026,\n",
       "             'fashion': 1126,\n",
       "             'especially': 2602,\n",
       "             'context': 5333,\n",
       "             'docking': 1073,\n",
       "             'high': 27112,\n",
       "             'affinity': 6154,\n",
       "             'pointed': 202,\n",
       "             'would': 12582,\n",
       "             'allow': 2975,\n",
       "             'atypical': 1108,\n",
       "             'players': 79,\n",
       "             'including': 24618,\n",
       "             'cullin': 728,\n",
       "             'ring': 5223,\n",
       "             'ligase': 4892,\n",
       "             'crl4': 34,\n",
       "             'formal': 189,\n",
       "             'identification': 5753,\n",
       "             'elucidation': 217,\n",
       "             'concerted': 163,\n",
       "             'action': 1805,\n",
       "             'ligases': 787,\n",
       "             'require': 4670,\n",
       "             'studies': 31529,\n",
       "             'present': 15552,\n",
       "             'medical': 2608,\n",
       "             'implications': 2228,\n",
       "             'first': 19231,\n",
       "             '22': 14019,\n",
       "             'frequently': 6935,\n",
       "             'deregulated': 1218,\n",
       "             'many': 12196,\n",
       "             'cancers': 20932,\n",
       "             '23': 12692,\n",
       "             'second': 11751,\n",
       "             'contribute': 5661,\n",
       "             'understanding': 3945,\n",
       "             'causing': 3071,\n",
       "             'like': 10574,\n",
       "             'could': 21326,\n",
       "             'predictive': 2990,\n",
       "             'clinical': 34937,\n",
       "             'marker': 2637,\n",
       "             'hormone': 1995,\n",
       "             'therapy': 12198,\n",
       "             'third': 3588,\n",
       "             'interesting': 1775,\n",
       "             'transgenic': 2148,\n",
       "             'mice': 23921,\n",
       "             'showing': 6424,\n",
       "             'less': 11293,\n",
       "             'twofold': 345,\n",
       "             'severe': 2497,\n",
       "             'cranial': 137,\n",
       "             'abnormalities': 2908,\n",
       "             '24': 19275,\n",
       "             'part': 6549,\n",
       "             'consequence': 1958,\n",
       "             'risk': 12401,\n",
       "             'develop': 3770,\n",
       "             'certain': 3149,\n",
       "             'types': 11196,\n",
       "             'various': 8334,\n",
       "             'models': 9885,\n",
       "             'three': 32345,\n",
       "             'copies': 1421,\n",
       "             'exist': 1883,\n",
       "             'dosage': 760,\n",
       "             'repress': 426,\n",
       "             'promote': 5708,\n",
       "             'growth': 38042,\n",
       "             'exerts': 458,\n",
       "             'noncell': 4,\n",
       "             'autonomous': 652,\n",
       "             '25': 17845,\n",
       "             'intringuingly': 1,\n",
       "             'diagnosed': 3202,\n",
       "             'nephroblastoma': 5,\n",
       "             '26': 12327,\n",
       "             'facilitate': 1985,\n",
       "             'general': 4315,\n",
       "             'particular': 5215,\n",
       "             'division': 971,\n",
       "             'suppressive': 1618,\n",
       "             'retardation': 567,\n",
       "             'exhibited': 5202,\n",
       "             'strongly': 5273,\n",
       "             'proliferation': 18904,\n",
       "             'sectionmaterials': 3,\n",
       "             'methodscloning': 1,\n",
       "             'cdnas': 1891,\n",
       "             'plasmid': 7116,\n",
       "             'constructions': 57,\n",
       "             'production': 2554,\n",
       "             'detailed': 3127,\n",
       "             'si': 1106,\n",
       "             'materials': 5456,\n",
       "             'methods': 14971,\n",
       "             'described': 26899,\n",
       "             '27': 10268,\n",
       "             'mammalian': 5675,\n",
       "             'cultures': 1827,\n",
       "             'transfections': 1219,\n",
       "             'grew': 731,\n",
       "             'dmem': 2363,\n",
       "             'supplemented': 3178,\n",
       "             'vol': 1724,\n",
       "             'fbs': 2293,\n",
       "             'invitrogen': 4476,\n",
       "             'rpmi': 1842,\n",
       "             '1640': 1105,\n",
       "             'glutamax': 47,\n",
       "             'lipofectamine': 1347,\n",
       "             '2000': 5665,\n",
       "             'rnaimax': 130,\n",
       "             'jetprime': 5,\n",
       "             'polyplus': 12,\n",
       "             'combinations': 1542,\n",
       "             'according': 11173,\n",
       "             'manufacturers': 176,\n",
       "             'instructions': 2773,\n",
       "             'electroporation': 376,\n",
       "             'neon': 2,\n",
       "             '32': 10367,\n",
       "             'transfection': 9661,\n",
       "             'fisher': 1889,\n",
       "             'scientific': 897,\n",
       "             'coimmunoprecipitation': 556,\n",
       "             'collected': 3573,\n",
       "             'scraping': 38,\n",
       "             'pbs': 3409,\n",
       "             'centrifugation': 1208,\n",
       "             'lysed': 2925,\n",
       "             'sonication': 255,\n",
       "             'lysis': 2788,\n",
       "             'buffer': 8561,\n",
       "             'containing': 18673,\n",
       "             '60': 8736,\n",
       "             'mm': 17603,\n",
       "             'glycerophosphate': 199,\n",
       "             'nitrophenylphosphate': 9,\n",
       "             'morpholino': 32,\n",
       "             'propanesulfonic': 14,\n",
       "             'mops': 89,\n",
       "             'ph': 7816,\n",
       "             'egta': 297,\n",
       "             'mgcl2': 1082,\n",
       "             'na': 3846,\n",
       "             'vanadate': 86,\n",
       "             'naf': 470,\n",
       "             '1mm': 116,\n",
       "             'phenylphosphate': 1,\n",
       "             'nonidet': 387,\n",
       "             '40': 13687,\n",
       "             'protease': 1789,\n",
       "             'mixture': 1697,\n",
       "             'roche': 2199,\n",
       "             'spun': 150,\n",
       "             'min': 9371,\n",
       "             '000': 8799,\n",
       "             'supernatants': 654,\n",
       "             'content': 1822,\n",
       "             'bradford': 149,\n",
       "             'immunoprecipitation': 3709,\n",
       "             '500': 3629,\n",
       "             'precleared': 115,\n",
       "             'agarose': 2367,\n",
       "             'beads': 2919,\n",
       "             'incubated': 7627,\n",
       "             'rotating': 72,\n",
       "             'wheel': 43,\n",
       "             'washed': 4142,\n",
       "             'times': 5161,\n",
       "             'bead': 324,\n",
       "             '50': 21506,\n",
       "             'tris': 3386,\n",
       "             '250': 2450,\n",
       "             'nacl': 2703,\n",
       "             'edta': 2010,\n",
       "             'coktail': 1,\n",
       "             'sample': 9092,\n",
       "             'pellets': 547,\n",
       "             'heat': 2194,\n",
       "             'denatured': 707,\n",
       "             'ran': 96,\n",
       "             'samples': 26737,\n",
       "             'bis': 381,\n",
       "             'sds': 5288,\n",
       "             'page': 6906,\n",
       "             'transferred': 2269,\n",
       "             'onto': 2437,\n",
       "             'hybond': 87,\n",
       "             'nitrocellulose': 864,\n",
       "             'membranes': 2674,\n",
       "             'processed': 1343,\n",
       "             'standard': 6305,\n",
       "             'procedures': 2617,\n",
       "             'following': 11688,\n",
       "             'primary': 18690,\n",
       "             'abcam': 579,\n",
       "             'ab9106': 3,\n",
       "             'r960': 14,\n",
       "             'tubulin': 937,\n",
       "             'santa': 3666,\n",
       "             'cruz': 3409,\n",
       "             'biotechnology': 2453,\n",
       "             'covalab': 6,\n",
       "             'pab0847p': 1,\n",
       "             'home': 107,\n",
       "             'made': 4044,\n",
       "             'dilution': 1795,\n",
       "             'pab0882': 1,\n",
       "             'raf1': 1861,\n",
       "             'sigma': 3927,\n",
       "             'f7425': 13,\n",
       "             'actin': 3114,\n",
       "             'a5060': 1,\n",
       "             'hrp': 661,\n",
       "             'coupled': 1910,\n",
       "             'sc': 1454,\n",
       "             '2033': 11,\n",
       "             'bio': 1359,\n",
       "             'rad': 1012,\n",
       "             '170': 572,\n",
       "             '6516': 1,\n",
       "             'rabbit': 3007,\n",
       "             '172': 370,\n",
       "             '1019': 18,\n",
       "             'secondary': 10765,\n",
       "             'chemiluminescence': 607,\n",
       "             'supersignal': 117,\n",
       "             'west': 296,\n",
       "             'femto': 26,\n",
       "             'thermo': 695,\n",
       "             'purification': 1523,\n",
       "             'generated': 8852,\n",
       "             'bacmids': 1,\n",
       "             'dh10bac': 8,\n",
       "             'escherichia': 622,\n",
       "             'coli': 2065,\n",
       "             'baculoviruses': 172,\n",
       "             'sf9': 785,\n",
       "             'bac': 2084,\n",
       "             'system': 10841,\n",
       "             'provider': 149,\n",
       "             'infected': 2694,\n",
       "             'cdk10kd': 1,\n",
       "             'producing': 728,\n",
       "             'viruses': 405,\n",
       "             'coinfected': 54,\n",
       "             '72': 5478,\n",
       "             'infection': 2133,\n",
       "             'purify': 78,\n",
       "             'ml': 14712,\n",
       "             'resuspended': 1219,\n",
       "             'pellet': 499,\n",
       "             'lysate': 1718,\n",
       "             'soluble': 1148,\n",
       "             'fraction': 4277,\n",
       "             'time': 12156,\n",
       "             'see': 9818,\n",
       "             '100': 18198,\n",
       "             'glycerol': 941,\n",
       "             'storage': 82,\n",
       "             'transformed': 4788,\n",
       "             'origami2': 1,\n",
       "             'de3': 202,\n",
       "             'novagen': 173,\n",
       "             'isopropyl': 198,\n",
       "             'thiogalactopyranoside': 83,\n",
       "             '300': 2346,\n",
       "             'imidazole': 316,\n",
       "             'dtt': 962,\n",
       "             'bar': 1346,\n",
       "             'disruptor': 2,\n",
       "             '200': 4621,\n",
       "             'cobalt': 14,\n",
       "             'incubation': 2301,\n",
       "             'elute': 52,\n",
       "             'elution': 391,\n",
       "             'eluted': 1053,\n",
       "             'mixed': 2306,\n",
       "             'harboring': 6580,\n",
       "             'monomeric': 391,\n",
       "             'complexed': 284,\n",
       "             'bsa': 746,\n",
       "             'ci': 4430,\n",
       "             '32p': 1383,\n",
       "             '75': 4536,\n",
       "             'hcl': 1879,\n",
       "             'heparin': 383,\n",
       "             'volume': 4031,\n",
       "             'reactions': 2364,\n",
       "             'laemli': 3,\n",
       "             'cut': 816,\n",
       "             'slices': 88,\n",
       "             'stained': 4025,\n",
       "             ...})"
      ]
     },
     "execution_count": 34,
     "metadata": {},
     "output_type": "execute_result"
    }
   ],
   "source": [
    "#Function1: count of each word\n",
    "#Function 2 : for response encoding\n",
    "\n",
    "def create_dictionary(text):\n",
    "    dictionary = defaultdict(int)\n",
    "    for index, row in text.iterrows():\n",
    "        for word in row['TEXT'].split():\n",
    "            dictionary[word] +=1\n",
    "    return dictionary\n",
    "\n",
    "create_dictionary(genetic_dataset)"
   ]
  },
  {
   "cell_type": "code",
   "execution_count": 35,
   "metadata": {},
   "outputs": [],
   "source": [
    "import math\n",
    "#https://stackoverflow.com/a/1602964\n",
    "def get_text_responsecoding(df):\n",
    "    text_feature_encoding= np.zeros((df.shape[0],9))\n",
    "    for i in range(0,9):\n",
    "        row_index = 0\n",
    "        for index, row in df.iterrows():\n",
    "            sum_prob = 0\n",
    "            for word in row['TEXT'].split():\n",
    "                sum_prob += math.log(((dict_list[i].get(word,0)+10 )/(total_dict.get(word,0)+90)))\n",
    "            text_feature_encoding[row_index][i] = math.exp(sum_prob/len(row['TEXT'].split()))\n",
    "            row_index += 1\n",
    "    return text_feature_encoding"
   ]
  },
  {
   "cell_type": "code",
   "execution_count": 36,
   "metadata": {},
   "outputs": [],
   "source": [
    "# building a CountVectorizer with all the words that occured minimum 3 times in train data\n",
    "text_vectorizer = CountVectorizer(min_df=3)\n",
    "train_text_feature_onehotCoding = text_vectorizer.fit_transform(x_train_cv['TEXT'])\n",
    "# getting all the feature names (words)\n",
    "train_text_features= text_vectorizer.get_feature_names()\n"
   ]
  },
  {
   "cell_type": "code",
   "execution_count": 37,
   "metadata": {},
   "outputs": [],
   "source": [
    "dict_list = []\n",
    "# dict_list =[] contains 9 dictionaries where each corresponds to the respective class\n",
    "for i in range(1,10):\n",
    "    text = x_train_cv[x_train_cv['Class']==i]\n",
    "    # build a word dict based on the words in that class\n",
    "    dict_list.append(create_dictionary(text))\n",
    "    # append it to dict_list\n",
    "#Two main distinctions:\n",
    "# dict_list[i] is build on i'th  class text data\n",
    "# total_dict is buid on whole training text data\n",
    "total_dict = create_dictionary(x_train_cv)\n",
    "\n",
    "propab_array = []\n",
    "for i in train_text_features:\n",
    "    ratios = []\n",
    "    max_val = -1\n",
    "    for j in range(0,9):\n",
    "        ratios.append((dict_list[j][i]+10 )/(total_dict[i]+90))\n",
    "    propab_array.append(ratios)\n",
    "propab_array = np.array(propab_array)"
   ]
  },
  {
   "cell_type": "code",
   "execution_count": 38,
   "metadata": {},
   "outputs": [
    {
     "name": "stdout",
     "output_type": "stream",
     "text": [
      "[[0.07913669 0.02574782 0.00492238 ... 0.12040894 0.00454373 0.00605831]\n",
      " [0.13601103 0.1049819  0.01206689 ... 0.34614722 0.01137735 0.01913463]\n",
      " [0.09615385 0.125      0.09615385 ... 0.20192308 0.09615385 0.09615385]\n",
      " ...\n",
      " [0.11578947 0.12631579 0.10526316 ... 0.11578947 0.10526316 0.10526316]\n",
      " [0.125      0.125      0.10416667 ... 0.125      0.10416667 0.10416667]\n",
      " [0.11881188 0.0990099  0.0990099  ... 0.16831683 0.0990099  0.11881188]]\n"
     ]
    }
   ],
   "source": [
    "print(propab_array )"
   ]
  },
  {
   "cell_type": "code",
   "execution_count": 39,
   "metadata": {},
   "outputs": [],
   "source": [
    "train_text_feature_responseCoding  = get_text_responsecoding(x_train_cv)\n",
    "test_text_feature_responseCoding  = get_text_responsecoding(X_test)\n",
    "cv_text_feature_responseCoding  = get_text_responsecoding(x_test_cv)"
   ]
  },
  {
   "cell_type": "code",
   "execution_count": 40,
   "metadata": {},
   "outputs": [
    {
     "data": {
      "text/plain": [
       "(2124, 9)"
      ]
     },
     "execution_count": 40,
     "metadata": {},
     "output_type": "execute_result"
    }
   ],
   "source": [
    "train_text_feature_responseCoding.shape"
   ]
  },
  {
   "cell_type": "code",
   "execution_count": 41,
   "metadata": {},
   "outputs": [
    {
     "name": "stdout",
     "output_type": "stream",
     "text": [
      "[[0.17363412 0.11680869 0.02111846 ... 0.26688421 0.01218932 0.01570655]\n",
      " [0.10574516 0.11176147 0.02216889 ... 0.29604386 0.0108249  0.01372112]\n",
      " [0.18735015 0.07936642 0.02812517 ... 0.19940188 0.0089235  0.0114052 ]\n",
      " ...\n",
      " [0.12470814 0.12051046 0.02097346 ... 0.34756313 0.01063369 0.01274833]\n",
      " [0.18046692 0.1205543  0.02247107 ... 0.27326138 0.01304552 0.0173808 ]\n",
      " [0.08711202 0.15708303 0.01810066 ... 0.40189393 0.00857724 0.01075219]]\n"
     ]
    }
   ],
   "source": [
    "print(train_text_feature_responseCoding)"
   ]
  },
  {
   "cell_type": "code",
   "execution_count": 42,
   "metadata": {},
   "outputs": [],
   "source": [
    "# https://stackoverflow.com/a/16202486\n",
    "# Here we convert each row values such that they sum to 1  \n",
    "train_text_feature_responseCoding = (train_text_feature_responseCoding.T/train_text_feature_responseCoding.sum(axis=1)).T\n",
    "test_text_feature_responseCoding = (test_text_feature_responseCoding.T/test_text_feature_responseCoding.sum(axis=1)).T\n",
    "cv_text_feature_responseCoding = (cv_text_feature_responseCoding.T/cv_text_feature_responseCoding.sum(axis=1)).T"
   ]
  },
  {
   "cell_type": "code",
   "execution_count": 43,
   "metadata": {},
   "outputs": [],
   "source": [
    "# normalizing every feature\n",
    "train_text_feature_onehotCoding = normalize(train_text_feature_onehotCoding, axis=0)\n",
    "\n",
    "test_text_feature_onehotCoding = text_vectorizer.transform(X_test['TEXT'])\n",
    "\n",
    "test_text_feature_onehotCoding = normalize(test_text_feature_onehotCoding, axis=0)\n",
    "\n",
    "cv_text_feature_onehotCoding = text_vectorizer.transform(x_test_cv['TEXT'])\n",
    "\n",
    "cv_text_feature_onehotCoding = normalize(cv_text_feature_onehotCoding, axis=0)"
   ]
  },
  {
   "cell_type": "code",
   "execution_count": 44,
   "metadata": {},
   "outputs": [
    {
     "name": "stdout",
     "output_type": "stream",
     "text": [
      "(2124, 53768)\n",
      "(665, 53768)\n",
      "(532, 53768)\n"
     ]
    }
   ],
   "source": [
    "#Let check dimensions\n",
    "print(train_text_feature_onehotCoding.shape )\n",
    "print(test_text_feature_onehotCoding.shape)\n",
    "print(cv_text_feature_onehotCoding.shape)"
   ]
  },
  {
   "cell_type": "code",
   "execution_count": 45,
   "metadata": {},
   "outputs": [
    {
     "name": "stdout",
     "output_type": "stream",
     "text": [
      "(2124, 235)\n",
      "(2124, 1963)\n",
      "(2124, 2198)\n",
      "(2124, 53768)\n"
     ]
    }
   ],
   "source": [
    "#toxsr() return a copy of the matrix in Compressed Sparse Row format\n",
    "train_gene_var_onehotCoding = hstack((train_gene_oneHotCod,train_variation_oneHotCod))\n",
    "print(train_gene_oneHotCod.shape)\n",
    "print(train_variation_oneHotCod.shape)\n",
    "test_gene_var_onehotCoding = hstack((test_gene_oneHotCod,test_variation_oneHotCod))\n",
    "cv_gene_var_onehotCoding = hstack((cv_gene_oneHotCod,cv_variation_oneHotCod))\n",
    "\n",
    "train_x_onehotCoding = hstack((train_gene_var_onehotCoding, train_text_feature_onehotCoding)).tocsr()\n",
    "print(train_gene_var_onehotCoding.shape)\n",
    "print(train_text_feature_onehotCoding.shape)\n",
    "train_y = np.array(list(x_train_cv['Class']))\n",
    "\n",
    "test_x_onehotCoding = hstack((test_gene_var_onehotCoding, test_text_feature_onehotCoding)).tocsr()\n",
    "test_y = np.array(list(X_test['Class']))\n",
    "\n",
    "cv_x_onehotCoding = hstack((cv_gene_var_onehotCoding , cv_text_feature_onehotCoding)).tocsr()\n",
    "cv_y = np.array(list(x_test_cv['Class']))\n"
   ]
  },
  {
   "cell_type": "code",
   "execution_count": 46,
   "metadata": {},
   "outputs": [
    {
     "name": "stdout",
     "output_type": "stream",
     "text": [
      "One hot encoding features :\n",
      "(number of data points * number of features) in train data =  (2124, 55966)\n",
      "(number of data points * number of features) in test data =  (665, 55966)\n",
      "(number of data points * number of features) in cross validation data = (532, 55966)\n"
     ]
    }
   ],
   "source": [
    "print(\"One hot encoding features :\")\n",
    "print(\"(number of data points * number of features) in train data = \", train_x_onehotCoding.shape)\n",
    "print(\"(number of data points * number of features) in test data = \", test_x_onehotCoding.shape)\n",
    "print(\"(number of data points * number of features) in cross validation data =\", cv_x_onehotCoding.shape)"
   ]
  },
  {
   "cell_type": "code",
   "execution_count": 47,
   "metadata": {},
   "outputs": [],
   "source": [
    "train_gene_var_responseCoding = np.hstack((train_gene_feature_responseCoding,train_variation_feature_responseCoding))\n",
    "test_gene_var_responseCoding = np.hstack((test_gene_feature_responseCoding,test_variation_feature_responseCoding))\n",
    "cv_gene_var_responseCoding = np.hstack((cv_gene_feature_responseCoding,cv_variation_feature_responseCoding))\n",
    "\n",
    "train_x_responseCoding = np.hstack((train_gene_var_responseCoding, train_text_feature_responseCoding))\n",
    "test_x_responseCoding = np.hstack((test_gene_var_responseCoding, test_text_feature_responseCoding))\n",
    "cv_x_responseCoding = np.hstack((cv_gene_var_responseCoding, cv_text_feature_responseCoding))\n"
   ]
  },
  {
   "cell_type": "code",
   "execution_count": 48,
   "metadata": {},
   "outputs": [
    {
     "name": "stdout",
     "output_type": "stream",
     "text": [
      " Response encoding features :\n",
      "(number of data points * number of features) in train data =  (2124, 27)\n",
      "(number of data points * number of features) in test data =  (665, 27)\n",
      "(number of data points * number of features) in cross validation data = (532, 27)\n"
     ]
    }
   ],
   "source": [
    "print(\" Response encoding features :\")\n",
    "print(\"(number of data points * number of features) in train data = \", train_x_responseCoding.shape)\n",
    "print(\"(number of data points * number of features) in test data = \", test_x_responseCoding.shape)\n",
    "print(\"(number of data points * number of features) in cross validation data =\", cv_x_responseCoding.shape)"
   ]
  },
  {
   "cell_type": "code",
   "execution_count": 49,
   "metadata": {},
   "outputs": [],
   "source": [
    "def report_log_loss(train_x, train_y, test_x, test_y,  model):\n",
    "    model.fit(train_x, train_y)\n",
    "    calib_clf = CalibratedClassifierCV(clf, method=\"sigmoid\")\n",
    "    calib_clf.fit(train_x, train_y)\n",
    "    calib_clf_probs = calib_clf.predict_proba(test_x)\n",
    "    return log_loss(test_y, sig_clf_probs, eps=1e-15)"
   ]
  },
  {
   "cell_type": "code",
   "execution_count": 54,
   "metadata": {},
   "outputs": [],
   "source": [
    "\n",
    "def predict_confusion_matrix(train_x, train_y,test_x, test_y, model):\n",
    "    model.fit(train_x, train_y)\n",
    "    calib_clf = CalibratedClassifierCV(model, method=\"sigmoid\")\n",
    "    calib_clf.fit(train_x, train_y)\n",
    "    pred_y = calib_clf.predict(test_x)\n",
    "\n",
    "    # for calculating log_loss we will use the array of probabilities that belongs to each class\n",
    "    print(\"Log loss :\",log_loss(test_y, calib_clf.predict_proba(test_x)))\n",
    "    # calculating the number of data points that are misclassified\n",
    "    print(\"Number of miss-classified points :\", np.count_nonzero((pred_y- test_y))/test_y.shape[0])\n",
    "    #print(\"accuracy:\", 100*(1-missclassified))"
   ]
  },
  {
   "cell_type": "markdown",
   "metadata": {},
   "source": [
    "# Building ML models\n"
   ]
  },
  {
   "cell_type": "markdown",
   "metadata": {},
   "source": [
    "Naive Bayes <br>\n",
    "https://machinelearningmastery.com/calibrated-classification-model-in-scikit-learn/ <br>\n",
    "Why using CalibratedClassifierCV here?\n",
    "\"The distribution of the probabilities can be adjusted to better match the expected distribution observed in the data. This adjustment is referred to as calibration, as in the calibration of the model or the calibration of the distribution of class probabilities.\""
   ]
  },
  {
   "cell_type": "code",
   "execution_count": 55,
   "metadata": {},
   "outputs": [
    {
     "name": "stdout",
     "output_type": "stream",
     "text": [
      "for alpha 0.0001\n",
      "Log loss : 1.2109276220807628\n",
      "for alpha 0.1\n",
      "Log loss : 1.2099833502802146\n",
      "for alpha 1\n",
      "Log loss : 1.2173085041704932\n",
      "for alpha 10\n",
      "Log loss : 1.252399591131639\n",
      "for alpha 100\n",
      "Log loss : 1.251400396205438\n",
      "for alpha 1000\n",
      "Log loss : 1.2496780996744952\n"
     ]
    }
   ],
   "source": [
    "from sklearn import metrics\n",
    "alpha = [  0.0001, 0.1, 1, 10, 100,1000]\n",
    "error=[]\n",
    "for i in alpha:\n",
    "    print(\"for alpha\", i)\n",
    "    naive_model=MultinomialNB(alpha=i)\n",
    "    naive_model.fit(train_x_responseCoding,train_y)\n",
    "    calib = CalibratedClassifierCV(naive_model, method=\"sigmoid\")\n",
    "    calib.fit(train_x_responseCoding, train_y)\n",
    "    calib_probs = calib.predict_proba(cv_x_responseCoding)\n",
    "    error.append(log_loss(cv_y, calib_probs,labels=naive_model.classes_,  eps=1e-15))\n",
    "    #print(\"Log Loss :\",log_loss(cv_y, calib_probs)) \n",
    "    print(\"Log loss :\",log_loss(cv_y, calib_probs))\n"
   ]
  },
  {
   "cell_type": "markdown",
   "metadata": {},
   "source": [
    "So, we are using alpha =0.1 in our test data."
   ]
  },
  {
   "cell_type": "code",
   "execution_count": 68,
   "metadata": {},
   "outputs": [
    {
     "name": "stdout",
     "output_type": "stream",
     "text": [
      "For alpha =0.1, train log is 1.1784946543522627\n",
      "For alpha =0.1, cv log is 1.2109276220807628\n",
      "For alpha =0.1, test log is 1.2440043083646297\n"
     ]
    }
   ],
   "source": [
    "naive_model=MultinomialNB(alpha=0.0001)\n",
    "naive_model.fit(train_x_responseCoding,train_y)\n",
    "calib = CalibratedClassifierCV(naive_model, method=\"sigmoid\")\n",
    "calib.fit(train_x_responseCoding, train_y)\n",
    "pred_y = calib.predict_proba(train_x_responseCoding)\n",
    "print(\"For alpha =0.1, train log is\",log_loss(train_y, pred_y, labels=naive_model.classes_, eps=1e-15))\n",
    "pred_y = calib.predict_proba(cv_x_responseCoding)\n",
    "print(\"For alpha =0.1, cv log is\",log_loss(cv_y, pred_y, labels=naive_model.classes_, eps=1e-15))\n",
    "pred_y_test = calib.predict_proba(test_x_responseCoding)\n",
    "print(\"For alpha =0.1, test log is\",log_loss(test_y, pred_y_test, labels=naive_model.classes_, eps=1e-15))"
   ]
  },
  {
   "cell_type": "code",
   "execution_count": 57,
   "metadata": {},
   "outputs": [
    {
     "name": "stdout",
     "output_type": "stream",
     "text": [
      "Log loss : 1.2109276220807628\n",
      "Number of mis-classified points : 0.45112781954887216\n"
     ]
    }
   ],
   "source": [
    "predict_confusion_matrix(train_x_responseCoding, train_y, cv_x_responseCoding, cv_y, naive_model)"
   ]
  },
  {
   "cell_type": "code",
   "execution_count": 58,
   "metadata": {},
   "outputs": [
    {
     "name": "stdout",
     "output_type": "stream",
     "text": [
      "Log loss : 1.2902952153260763\n",
      "Number of mis-classified points : 0.39473684210526316\n"
     ]
    }
   ],
   "source": [
    "predict_confusion_matrix(train_x_onehotCoding, train_y, cv_x_onehotCoding, cv_y, naive_model)"
   ]
  },
  {
   "cell_type": "markdown",
   "metadata": {},
   "source": [
    "K Nearest neighbor"
   ]
  },
  {
   "cell_type": "code",
   "execution_count": 59,
   "metadata": {},
   "outputs": [
    {
     "name": "stdout",
     "output_type": "stream",
     "text": [
      "for alpha 5\n",
      "Log Loss : 1.037604485082537\n",
      "for alpha 10\n",
      "Log Loss : 1.006227971613474\n",
      "for alpha 21\n",
      "Log Loss : 1.0326418723020077\n",
      "for alpha 35\n",
      "Log Loss : 1.0296972840198777\n",
      "for alpha 55\n",
      "Log Loss : 1.0510129170644373\n",
      "for alpha 99\n",
      "Log Loss : 1.0636314828143534\n"
     ]
    }
   ],
   "source": [
    "alpha = [5, 10,  21, 35,  55, 99]\n",
    "error = []\n",
    "for i in alpha:        \n",
    "    print(\"for alpha\",i)\n",
    "    cluster_model=KNeighborsClassifier(n_neighbors=i)\n",
    "    cluster_model.fit(train_x_responseCoding, train_y)\n",
    "    calib = CalibratedClassifierCV(cluster_model, method=\"sigmoid\")\n",
    "    calib.fit(train_x_responseCoding, train_y)\n",
    "    calib_probs = calib.predict_proba(cv_x_responseCoding)\n",
    "    error.append(log_loss(cv_y, calib_probs, labels=cluster_model.classes_, eps=1e-15))\n",
    "    # to avoid rounding error while multiplying probabilites we use log-probability estimates\n",
    "    print(\"Log Loss :\",log_loss(cv_y, calib_probs))"
   ]
  },
  {
   "cell_type": "markdown",
   "metadata": {},
   "source": [
    "We choose alpha 10 with lowest log loss"
   ]
  },
  {
   "cell_type": "code",
   "execution_count": 67,
   "metadata": {},
   "outputs": [
    {
     "name": "stdout",
     "output_type": "stream",
     "text": [
      "For lowest log loss of alpha, test log is 1.125207970118624\n"
     ]
    }
   ],
   "source": [
    "cluster_modell=KNeighborsClassifier(n_neighbors=5)\n",
    "cluster_modell.fit(train_x_responseCoding, train_y)\n",
    "pred_y_test = calib.predict_proba(test_x_responseCoding)\n",
    "print(\"For lowest log loss of alpha, test log is\",log_loss(test_y, pred_y_test, labels=cluster_modell.classes_, eps=1e-15))"
   ]
  },
  {
   "cell_type": "code",
   "execution_count": 61,
   "metadata": {},
   "outputs": [
    {
     "name": "stdout",
     "output_type": "stream",
     "text": [
      "Log loss : 1.037604485082537\n",
      "Number of mis-classified points : 0.3383458646616541\n"
     ]
    }
   ],
   "source": [
    "predict_confusion_matrix(train_x_responseCoding, train_y, cv_x_responseCoding, cv_y, cluster_modell)"
   ]
  },
  {
   "cell_type": "code",
   "execution_count": 62,
   "metadata": {},
   "outputs": [
    {
     "name": "stdout",
     "output_type": "stream",
     "text": [
      "Log loss : 1.327763268229588\n",
      "Number of mis-classified points : 0.4642857142857143\n"
     ]
    }
   ],
   "source": [
    "predict_confusion_matrix(train_x_onehotCoding, train_y, cv_x_onehotCoding, cv_y, cluster_modell)"
   ]
  },
  {
   "cell_type": "markdown",
   "metadata": {},
   "source": [
    "Logistic regression"
   ]
  },
  {
   "cell_type": "code",
   "execution_count": 63,
   "metadata": {},
   "outputs": [
    {
     "name": "stdout",
     "output_type": "stream",
     "text": [
      "for alpha = 1e-06\n",
      "Log Loss : 1.0420880698467974\n",
      "for alpha = 1e-05\n",
      "Log Loss : 1.0426781350838845\n",
      "for alpha = 0.0001\n",
      "Log Loss : 1.0551401365943935\n",
      "for alpha = 0.001\n",
      "Log Loss : 1.1498797391009932\n",
      "for alpha = 0.01\n",
      "Log Loss : 1.2053689840229729\n",
      "for alpha = 0.1\n",
      "Log Loss : 1.214508950185464\n",
      "for alpha = 1\n",
      "Log Loss : 1.2705474706772824\n",
      "for alpha = 10\n",
      "Log Loss : 1.5221829954610397\n",
      "for alpha = 100\n",
      "Log Loss : 1.5656728712814847\n"
     ]
    }
   ],
   "source": [
    "alpha = [10 ** x for x in range(-6, 3)]\n",
    "cv_log_error_array = []\n",
    "for i in alpha:\n",
    "    print(\"for alpha =\", i)\n",
    "    clf = SGDClassifier(class_weight='balanced', alpha=i, penalty='l2', loss='log', random_state=42)\n",
    "    clf.fit(train_x_responseCoding, train_y)\n",
    "    sig_clf = CalibratedClassifierCV(clf, method=\"sigmoid\")\n",
    "    sig_clf.fit(train_x_responseCoding, train_y)\n",
    "    sig_clf_probs = sig_clf.predict_proba(cv_x_responseCoding)\n",
    "    cv_log_error_array.append(log_loss(cv_y, sig_clf_probs, labels=clf.classes_, eps=1e-15))\n",
    "    # to avoid rounding error while multiplying probabilites we use log-probability estimates\n",
    "    print(\"Log Loss :\",log_loss(cv_y, sig_clf_probs)) \n"
   ]
  },
  {
   "cell_type": "code",
   "execution_count": 64,
   "metadata": {},
   "outputs": [
    {
     "name": "stdout",
     "output_type": "stream",
     "text": [
      "for alpha = 1e-06\n",
      "Log Loss : 1.358880682164992\n",
      "for alpha = 1e-05\n",
      "Log Loss : 1.3488457069460353\n",
      "for alpha = 0.0001\n",
      "Log Loss : 1.3439974514203643\n",
      "for alpha = 0.001\n",
      "Log Loss : 1.1358334391920262\n",
      "for alpha = 0.01\n",
      "Log Loss : 1.1504374016595937\n",
      "for alpha = 0.1\n",
      "Log Loss : 1.3061517713024013\n",
      "for alpha = 1\n",
      "Log Loss : 1.5489871002814704\n"
     ]
    }
   ],
   "source": [
    "alpha = [10 ** x for x in range(-6, 1)]\n",
    "cv_log_error_array = []\n",
    "for i in alpha:\n",
    "    print(\"for alpha =\", i)\n",
    "    clf = SGDClassifier(alpha=i, penalty='l2', loss='log', random_state=42)\n",
    "    clf.fit(train_x_onehotCoding, train_y)\n",
    "    sig_clf = CalibratedClassifierCV(clf, method=\"sigmoid\")\n",
    "    sig_clf.fit(train_x_onehotCoding, train_y)\n",
    "    sig_clf_probs = sig_clf.predict_proba(cv_x_onehotCoding)\n",
    "    cv_log_error_array.append(log_loss(cv_y, sig_clf_probs, labels=clf.classes_, eps=1e-10))\n",
    "    print(\"Log Loss :\",log_loss(cv_y, sig_clf_probs)) "
   ]
  },
  {
   "cell_type": "code",
   "execution_count": 65,
   "metadata": {},
   "outputs": [
    {
     "name": "stdout",
     "output_type": "stream",
     "text": [
      "Log loss : 1.1504374016595937\n",
      "Number of mis-classified points : 0.34962406015037595\n"
     ]
    }
   ],
   "source": [
    "clff = SGDClassifier(alpha=0.01, penalty='l2', loss='log', random_state=42)\n",
    "clff.fit(train_x_onehotCoding, train_y)\n",
    "predict_confusion_matrix(train_x_onehotCoding, train_y, cv_x_onehotCoding, cv_y, clff)"
   ]
  },
  {
   "cell_type": "code",
   "execution_count": 66,
   "metadata": {},
   "outputs": [
    {
     "name": "stdout",
     "output_type": "stream",
     "text": [
      "Log loss : 1.2031839686110826\n",
      "Number of mis-classified points : 0.4492481203007519\n"
     ]
    }
   ],
   "source": [
    "predict_confusion_matrix(train_x_responseCoding, train_y, cv_x_responseCoding, cv_y, clff)"
   ]
  },
  {
   "cell_type": "code",
   "execution_count": null,
   "metadata": {},
   "outputs": [],
   "source": []
  },
  {
   "cell_type": "code",
   "execution_count": null,
   "metadata": {},
   "outputs": [],
   "source": []
  }
 ],
 "metadata": {
  "kernelspec": {
   "display_name": "Python 3",
   "language": "python",
   "name": "python3"
  }
 },
 "nbformat": 4,
 "nbformat_minor": 2
}
