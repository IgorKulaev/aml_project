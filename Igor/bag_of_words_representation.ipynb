{
 "cells": [
  {
   "cell_type": "code",
   "execution_count": 2,
   "metadata": {},
   "outputs": [
    {
     "name": "stdout",
     "output_type": "stream",
     "text": [
      "<class 'pandas.core.frame.DataFrame'>\n",
      "RangeIndex: 3321 entries, 0 to 3320\n",
      "Data columns (total 2 columns):\n",
      "ID      3321 non-null object\n",
      "Text    3321 non-null object\n",
      "dtypes: object(2)\n",
      "memory usage: 52.0+ KB\n"
     ]
    }
   ],
   "source": [
    "import pandas as pd\n",
    "\n",
    "# load text data\n",
    "with open('training_text', 'r') as training_text_file:\n",
    "    training_text = training_text_file.read().split('\\n')\n",
    "\n",
    "training_text_header = training_text[0].split(',')\n",
    "training_text_data = map(lambda row: row.split('||'), training_text[1:-1])\n",
    "training_text_df = pd.DataFrame(training_text_data, columns=training_text_header)\n",
    "training_text_df.info()"
   ]
  },
  {
   "cell_type": "code",
   "execution_count": 3,
   "metadata": {},
   "outputs": [
    {
     "name": "stdout",
     "output_type": "stream",
     "text": [
      "<class 'pandas.core.frame.DataFrame'>\n",
      "RangeIndex: 3321 entries, 0 to 3320\n",
      "Data columns (total 4 columns):\n",
      "ID           3321 non-null object\n",
      "Gene         3321 non-null object\n",
      "Variation    3321 non-null object\n",
      "Class        3321 non-null object\n",
      "dtypes: object(4)\n",
      "memory usage: 103.9+ KB\n"
     ]
    }
   ],
   "source": [
    "# load variants data\n",
    "with open('training_variants', 'r') as training_variants_file:\n",
    "    training_variants = training_variants_file.read().split('\\n')\n",
    "\n",
    "training_variants_header = training_variants[0].split(',')\n",
    "training_variants_data = map(lambda row: row.split(','), training_variants[1:-1])\n",
    "training_variants_df = pd.DataFrame(training_variants_data, columns=training_variants_header)\n",
    "training_variants_df.info()"
   ]
  },
  {
   "cell_type": "code",
   "execution_count": 4,
   "metadata": {
    "scrolled": true
   },
   "outputs": [
    {
     "data": {
      "text/html": [
       "<div>\n",
       "<style scoped>\n",
       "    .dataframe tbody tr th:only-of-type {\n",
       "        vertical-align: middle;\n",
       "    }\n",
       "\n",
       "    .dataframe tbody tr th {\n",
       "        vertical-align: top;\n",
       "    }\n",
       "\n",
       "    .dataframe thead th {\n",
       "        text-align: right;\n",
       "    }\n",
       "</style>\n",
       "<table border=\"1\" class=\"dataframe\">\n",
       "  <thead>\n",
       "    <tr style=\"text-align: right;\">\n",
       "      <th></th>\n",
       "      <th>ID</th>\n",
       "      <th>Gene</th>\n",
       "      <th>Variation</th>\n",
       "      <th>Class</th>\n",
       "      <th>Text</th>\n",
       "    </tr>\n",
       "  </thead>\n",
       "  <tbody>\n",
       "    <tr>\n",
       "      <th>0</th>\n",
       "      <td>0</td>\n",
       "      <td>FAM58A</td>\n",
       "      <td>Truncating Mutations</td>\n",
       "      <td>1</td>\n",
       "      <td>Cyclin-dependent kinases (CDKs) regulate a var...</td>\n",
       "    </tr>\n",
       "    <tr>\n",
       "      <th>1</th>\n",
       "      <td>1</td>\n",
       "      <td>CBL</td>\n",
       "      <td>W802*</td>\n",
       "      <td>2</td>\n",
       "      <td>Abstract Background  Non-small cell lung canc...</td>\n",
       "    </tr>\n",
       "    <tr>\n",
       "      <th>2</th>\n",
       "      <td>2</td>\n",
       "      <td>CBL</td>\n",
       "      <td>Q249E</td>\n",
       "      <td>2</td>\n",
       "      <td>Abstract Background  Non-small cell lung canc...</td>\n",
       "    </tr>\n",
       "  </tbody>\n",
       "</table>\n",
       "</div>"
      ],
      "text/plain": [
       "  ID    Gene             Variation Class  \\\n",
       "0  0  FAM58A  Truncating Mutations     1   \n",
       "1  1     CBL                 W802*     2   \n",
       "2  2     CBL                 Q249E     2   \n",
       "\n",
       "                                                Text  \n",
       "0  Cyclin-dependent kinases (CDKs) regulate a var...  \n",
       "1   Abstract Background  Non-small cell lung canc...  \n",
       "2   Abstract Background  Non-small cell lung canc...  "
      ]
     },
     "execution_count": 4,
     "metadata": {},
     "output_type": "execute_result"
    }
   ],
   "source": [
    "# merge training data based on ID field\n",
    "training = pd.merge(training_variants_df, training_text_df)\n",
    "training.head(n=3)"
   ]
  },
  {
   "cell_type": "code",
   "execution_count": 5,
   "metadata": {},
   "outputs": [
    {
     "data": {
      "text/html": [
       "<div>\n",
       "<style scoped>\n",
       "    .dataframe tbody tr th:only-of-type {\n",
       "        vertical-align: middle;\n",
       "    }\n",
       "\n",
       "    .dataframe tbody tr th {\n",
       "        vertical-align: top;\n",
       "    }\n",
       "\n",
       "    .dataframe thead th {\n",
       "        text-align: right;\n",
       "    }\n",
       "</style>\n",
       "<table border=\"1\" class=\"dataframe\">\n",
       "  <thead>\n",
       "    <tr style=\"text-align: right;\">\n",
       "      <th></th>\n",
       "      <th>class</th>\n",
       "      <th>label_support</th>\n",
       "      <th>label_support_percentage</th>\n",
       "    </tr>\n",
       "  </thead>\n",
       "  <tbody>\n",
       "    <tr>\n",
       "      <th>0</th>\n",
       "      <td>7</td>\n",
       "      <td>953</td>\n",
       "      <td>0.286962</td>\n",
       "    </tr>\n",
       "    <tr>\n",
       "      <th>1</th>\n",
       "      <td>4</td>\n",
       "      <td>686</td>\n",
       "      <td>0.206564</td>\n",
       "    </tr>\n",
       "    <tr>\n",
       "      <th>2</th>\n",
       "      <td>1</td>\n",
       "      <td>568</td>\n",
       "      <td>0.171033</td>\n",
       "    </tr>\n",
       "    <tr>\n",
       "      <th>3</th>\n",
       "      <td>2</td>\n",
       "      <td>452</td>\n",
       "      <td>0.136104</td>\n",
       "    </tr>\n",
       "    <tr>\n",
       "      <th>4</th>\n",
       "      <td>6</td>\n",
       "      <td>275</td>\n",
       "      <td>0.082806</td>\n",
       "    </tr>\n",
       "    <tr>\n",
       "      <th>5</th>\n",
       "      <td>5</td>\n",
       "      <td>242</td>\n",
       "      <td>0.072870</td>\n",
       "    </tr>\n",
       "    <tr>\n",
       "      <th>6</th>\n",
       "      <td>3</td>\n",
       "      <td>89</td>\n",
       "      <td>0.026799</td>\n",
       "    </tr>\n",
       "    <tr>\n",
       "      <th>7</th>\n",
       "      <td>9</td>\n",
       "      <td>37</td>\n",
       "      <td>0.011141</td>\n",
       "    </tr>\n",
       "    <tr>\n",
       "      <th>8</th>\n",
       "      <td>8</td>\n",
       "      <td>19</td>\n",
       "      <td>0.005721</td>\n",
       "    </tr>\n",
       "  </tbody>\n",
       "</table>\n",
       "</div>"
      ],
      "text/plain": [
       "   class  label_support  label_support_percentage\n",
       "0      7            953                  0.286962\n",
       "1      4            686                  0.206564\n",
       "2      1            568                  0.171033\n",
       "3      2            452                  0.136104\n",
       "4      6            275                  0.082806\n",
       "5      5            242                  0.072870\n",
       "6      3             89                  0.026799\n",
       "7      9             37                  0.011141\n",
       "8      8             19                  0.005721"
      ]
     },
     "execution_count": 5,
     "metadata": {},
     "output_type": "execute_result"
    }
   ],
   "source": [
    "# view labels support\n",
    "training_labels_support_df = pd.DataFrame(training['Class'].value_counts()).rename(\n",
    "    {'Class':'label_support'}, axis=1\n",
    ")\n",
    "training_labels_support_df['label_support_percentage'] = \\\n",
    "    training_labels_support_df['label_support'] / training.shape[0]\n",
    "training_labels_support_df = training_labels_support_df.reset_index().rename({'index':'class'}, axis=1)\n",
    "training_labels_support_df['class'] = training_labels_support_df['class'].astype('int')\n",
    "training_labels_support_df"
   ]
  },
  {
   "cell_type": "code",
   "execution_count": 6,
   "metadata": {
    "scrolled": true
   },
   "outputs": [
    {
     "data": {
      "image/png": "[encoded data removed]",
      "text/plain": [
       "<Figure size 576x396 with 1 Axes>"
      ]
     },
     "metadata": {},
     "output_type": "display_data"
    }
   ],
   "source": [
    "# visualizing labels support\n",
    "import seaborn as sns\n",
    "%matplotlib inline\n",
    "import matplotlib.pyplot as plt\n",
    "plt.style.use('seaborn')\n",
    "\n",
    "sns.barplot(x='label_support', y='class', data=training_labels_support_df, orient='h')\n",
    "plt.show()"
   ]
  },
  {
   "cell_type": "markdown",
   "metadata": {},
   "source": [
    "Data is imbalanced, there are 9 classes, 3321 samples, no missed values\n",
    "#### ------------------------------------------------------------------------------------------------------------------------------------------------"
   ]
  },
  {
   "cell_type": "code",
   "execution_count": 7,
   "metadata": {},
   "outputs": [],
   "source": [
    "# correlation analog for categorial variables\n",
    "# needed to be refactored\n",
    "import numpy as np\n",
    "import itertools\n",
    "import scipy.stats as ss\n",
    "\n",
    "def cramers_corrected_stat(confusion_matrix):\n",
    "    \"\"\" calculate Cramers V statistic for categorical-categorical association.\n",
    "        uses correction from Bergsma and Wicher, \n",
    "        Journal of the Korean Statistical Society 42 (2013): 323-328\n",
    "    \"\"\"\n",
    "    chi2 = ss.chi2_contingency(confusion_matrix)[0]\n",
    "    n = confusion_matrix.sum().sum()\n",
    "    phi2 = chi2 / n\n",
    "    r, k = confusion_matrix.shape\n",
    "    phi2corr = max(0, phi2 - ((k-1)*(r-1))/(n-1))    \n",
    "    rcorr = r - ((r-1)**2)/(n-1)\n",
    "    kcorr = k - ((k-1)**2)/(n-1)\n",
    "    return np.sqrt(phi2corr / min((kcorr-1), (rcorr-1)))\n",
    "\n",
    "columns_for_cramers_v = ['Gene', 'Variation', 'Class']\n",
    "len_columns_for_cramers_v = len(columns_for_cramers_v)\n",
    "corr_matrix = np.zeros((len_columns_for_cramers_v, len_columns_for_cramers_v))\n",
    "for col1, col2 in itertools.combinations(columns_for_cramers_v, 2):\n",
    "    idx1, idx2 = columns_for_cramers_v.index(col1), columns_for_cramers_v.index(col2)\n",
    "    corr_matrix[idx1, idx2] = cramers_corrected_stat(pd.crosstab(training[col1], training[col2]))\n",
    "    corr_matrix[idx2, idx1] = corr_matrix[idx1, idx2]\n",
    "\n",
    "corr = pd.DataFrame(corr_matrix, index=columns_for_cramers_v, columns=columns_for_cramers_v)"
   ]
  },
  {
   "cell_type": "code",
   "execution_count": 8,
   "metadata": {},
   "outputs": [
    {
     "data": {
      "image/png": "[encoded data removed]",
      "text/plain": [
       "<Figure size 432x432 with 2 Axes>"
      ]
     },
     "metadata": {
      "needs_background": "light"
     },
     "output_type": "display_data"
    }
   ],
   "source": [
    "# plot heatmap of Cramer's statistic\n",
    "fig, ax = plt.subplots(figsize=(6, 6))\n",
    "ax = sns.heatmap(\n",
    "    corr, ax=ax, linewidths=0.25, square=True, annot=True,\n",
    "    cmap=\"YlGnBu\", linecolor='black'\n",
    ")\n",
    "ax.set_title(\"Cramer V Correlation\")\n",
    "plt.show()"
   ]
  },
  {
   "cell_type": "markdown",
   "metadata": {},
   "source": [
    "We can not say that Gene and Variation columns are associated to each other, while both of them impact the Class, which is target\n",
    "#### ------------------------------------------------------------------------------------------------------------------------------------------------\n",
    "The next and, probably, the main step is text preprocessing, consist of several points, which are:\n",
    "- transform text in lowercase\n",
    "- removing numbers\n",
    "- remove punctuation\n",
    "- remove whitespaces\n",
    "- tokenization\n",
    "- removing stop words\n",
    "- stemming\n",
    "- lemmatization"
   ]
  },
  {
   "cell_type": "code",
   "execution_count": 9,
   "metadata": {
    "scrolled": true
   },
   "outputs": [
    {
     "name": "stdout",
     "output_type": "stream",
     "text": [
      "Before first preprocessing\n",
      "Cyclin-dependent kinases (CDKs) regulate a variety\n",
      "\n",
      "After removing specific symbols\n",
      "cyclindependent kinases cdks regulate a variety of\n"
     ]
    }
   ],
   "source": [
    "import re\n",
    "import string\n",
    "\n",
    "# copy original dataset\n",
    "training_copy = training.copy()\n",
    "# rename original columns into lower\n",
    "training_copy.columns = [column.lower() for column in training_copy.columns]\n",
    "# print example before few steps\n",
    "print('Before first preprocessing\\n{}'.format(training_copy['text'].values[0][:50]))\n",
    "# lowercase\n",
    "training_copy['text'] = training_copy['text'].apply(lambda row: row.lower())\n",
    "# removing numbers\n",
    "training_copy['text'] = training_copy['text'].apply(lambda row: re.sub(r'\\d+', '', row))\n",
    "# removing punctuation\n",
    "punctuation_translation_table = str.maketrans(\n",
    "    {symbol:'' for symbol in string.punctuation}\n",
    ")\n",
    "training_copy['text'] = training_copy['text'].apply(\n",
    "    lambda row: row.translate(punctuation_translation_table)\n",
    ")\n",
    "# removing whitespaces\n",
    "training_copy['text'] = training_copy['text'].apply(lambda row: row.strip())\n",
    "# print example after few steps\n",
    "print('\\nAfter removing specific symbols\\n{}'.format(training_copy['text'].values[0][:50]))"
   ]
  },
  {
   "cell_type": "code",
   "execution_count": 10,
   "metadata": {
    "scrolled": true
   },
   "outputs": [
    {
     "name": "stderr",
     "output_type": "stream",
     "text": [
      "[nltk_data] Downloading package punkt to /home/pc/nltk_data...\n",
      "[nltk_data]   Package punkt is already up-to-date!\n",
      "[nltk_data] Downloading package stopwords to /home/pc/nltk_data...\n",
      "[nltk_data]   Package stopwords is already up-to-date!\n"
     ]
    },
    {
     "name": "stdout",
     "output_type": "stream",
     "text": [
      "After removing stop words\n",
      "['cyclindependent', 'kinases', 'cdks', 'regulate', 'variety']\n"
     ]
    }
   ],
   "source": [
    "import nltk\n",
    "nltk.download('punkt')\n",
    "nltk.download('stopwords')\n",
    "from nltk.corpus import stopwords\n",
    "from nltk.tokenize import word_tokenize\n",
    "\n",
    "# tokenization\n",
    "training_copy['text'] = training_copy['text'].apply(lambda row: word_tokenize(row))\n",
    "# removing stop words\n",
    "stop_words = set(stopwords.words('english'))\n",
    "training_copy['text'] = training_copy['text'].apply(\n",
    "    lambda list_of_words:\n",
    "    [word for word in list_of_words if not word in stop_words]\n",
    ")\n",
    "# print example after few steps\n",
    "print('After removing stop words\\n{}'.format(training_copy['text'].values[0][:5]))"
   ]
  },
  {
   "cell_type": "code",
   "execution_count": 11,
   "metadata": {
    "scrolled": true
   },
   "outputs": [
    {
     "name": "stdout",
     "output_type": "stream",
     "text": [
      "After stemming\n",
      "['cyclindepend', 'kinas', 'cdk', 'regul', 'varieti']\n"
     ]
    }
   ],
   "source": [
    "from nltk.stem import PorterStemmer\n",
    "\n",
    "# stemming\n",
    "stemmer = PorterStemmer()\n",
    "training_copy['text'] = training_copy['text'].apply(\n",
    "    lambda list_of_words: [stemmer.stem(word) for word in list_of_words]\n",
    ")\n",
    "# print example after few steps\n",
    "print('After stemming\\n{}'.format(training_copy['text'].values[0][:5]))"
   ]
  },
  {
   "cell_type": "code",
   "execution_count": 12,
   "metadata": {},
   "outputs": [
    {
     "name": "stderr",
     "output_type": "stream",
     "text": [
      "[nltk_data] Downloading package wordnet to /home/pc/nltk_data...\n",
      "[nltk_data]   Package wordnet is already up-to-date!\n"
     ]
    },
    {
     "name": "stdout",
     "output_type": "stream",
     "text": [
      "After lemmatization\n",
      "['cyclindepend', 'kina', 'cdk', 'regul', 'varieti']\n"
     ]
    }
   ],
   "source": [
    "from nltk.stem import WordNetLemmatizer\n",
    "nltk.download('wordnet')\n",
    "\n",
    "# lemmatization\n",
    "lemmatizer = WordNetLemmatizer()\n",
    "training_copy['text'] = training_copy['text'].apply(\n",
    "    lambda list_of_words: [lemmatizer.lemmatize(word) for word in list_of_words]\n",
    ")\n",
    "# print example after few steps\n",
    "print('After lemmatization\\n{}'.format(training_copy['text'].values[0][:5]))"
   ]
  },
  {
   "cell_type": "code",
   "execution_count": 13,
   "metadata": {},
   "outputs": [
    {
     "name": "stdout",
     "output_type": "stream",
     "text": [
      "Overall number of tokens: 137214\n"
     ]
    }
   ],
   "source": [
    "# helper function to generate vocabulary from the whole corpus \n",
    "def tokenize(list_of_words):\n",
    "    words = []\n",
    "    for word in list_of_words:\n",
    "        words.extend(word)\n",
    "        words = list(set(words))\n",
    "        \n",
    "    words = sorted(list(set(words)))\n",
    "    return words\n",
    "\n",
    "vocab = tokenize(training_copy['text'].values)\n",
    "# number of tokens\n",
    "print(\n",
    "    'Overall number of tokens: {}'.format(len(vocab))\n",
    ")"
   ]
  },
  {
   "cell_type": "code",
   "execution_count": 14,
   "metadata": {},
   "outputs": [],
   "source": [
    "# function to generate bag of words representations\n",
    "def generate_bow(list_of_words, vocab):\n",
    "    bag_vector = np.zeros(len(vocab))\n",
    "    for word in list_of_words:\n",
    "        for idx, token in enumerate(vocab):\n",
    "            if token == word: \n",
    "                bag_vector[idx] += 1\n",
    "    return bag_vector\n",
    "\n",
    "training_copy['text'] = training_copy['text'].apply(\n",
    "    lambda list_of_words: generate_bow(list_of_words, vocab)\n",
    ")"
   ]
  }
 ],
 "metadata": {
  "kernelspec": {
   "display_name": "Python 3",
   "language": "python",
   "name": "python3"
  },
  "language_info": {
   "codemirror_mode": {
    "name": "ipython",
    "version": 3
   },
   "file_extension": ".py",
   "mimetype": "text/x-python",
   "name": "python",
   "nbconvert_exporter": "python",
   "pygments_lexer": "ipython3",
   "version": "3.6.8"
  }
 },
 "nbformat": 4,
 "nbformat_minor": 2
}
